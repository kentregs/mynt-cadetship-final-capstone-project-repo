{
 "cells": [
  {
   "cell_type": "code",
   "execution_count": 1,
   "metadata": {
    "_cell_guid": "b1076dfc-b9ad-4769-8c92-a6c4dae69d19",
    "_uuid": "8f2839f25d086af736a60e9eeb907d3b93b6e0e5"
   },
   "outputs": [
    {
     "name": "stderr",
     "output_type": "stream",
     "text": [
      "C:\\Users\\matthewkent.regalado\\Anaconda3\\envs\\project-env\\lib\\site-packages\\numpy\\core\\__init__.py:29: UserWarning: loaded more than 1 DLL from .libs:\n",
      "C:\\Users\\matthewkent.regalado\\Anaconda3\\envs\\project-env\\lib\\site-packages\\numpy\\.libs\\libopenblas.JPIJNSWNNAN3CE6LLI5FWSPHUT2VXMTH.gfortran-win_amd64.dll\n",
      "C:\\Users\\matthewkent.regalado\\Anaconda3\\envs\\project-env\\lib\\site-packages\\numpy\\.libs\\libopenblas.TXA6YQSD3GCQQC22GEQ54J2UDCXDXHWN.gfortran-win_amd64.dll\n",
      "  stacklevel=1)\n"
     ]
    }
   ],
   "source": [
    "import matplotlib.pyplot as plt\n",
    "import seaborn as sns\n",
    "import pandas as pd \n",
    "import numpy as np\n",
    "import sklearn\n",
    "import sys\n",
    "import os"
   ]
  },
  {
   "cell_type": "markdown",
   "metadata": {},
   "source": [
    "### import to access Tagalog stopwords"
   ]
  },
  {
   "cell_type": "code",
   "execution_count": 2,
   "metadata": {
    "scrolled": true
   },
   "outputs": [
    {
     "name": "stdout",
     "output_type": "stream",
     "text": [
      "Requirement already satisfied: advertools in c:\\users\\matthewkent.regalado\\anaconda3\\envs\\project-env\\lib\\site-packages (0.11.1)\n",
      "Requirement already satisfied: pyasn1 in c:\\users\\matthewkent.regalado\\anaconda3\\envs\\project-env\\lib\\site-packages (from advertools) (0.4.8)\n",
      "Requirement already satisfied: twython in c:\\users\\matthewkent.regalado\\anaconda3\\envs\\project-env\\lib\\site-packages (from advertools) (3.8.2)\n",
      "Requirement already satisfied: scrapy in c:\\users\\matthewkent.regalado\\anaconda3\\envs\\project-env\\lib\\site-packages (from advertools) (2.5.0)\n",
      "Requirement already satisfied: pandas in c:\\users\\matthewkent.regalado\\anaconda3\\envs\\project-env\\lib\\site-packages (from advertools) (1.2.3)\n",
      "Requirement already satisfied: numpy>=1.16.5 in c:\\users\\matthewkent.regalado\\anaconda3\\envs\\project-env\\lib\\site-packages (from pandas->advertools) (1.16.6)\n",
      "Requirement already satisfied: pytz>=2017.3 in c:\\users\\matthewkent.regalado\\anaconda3\\envs\\project-env\\lib\\site-packages (from pandas->advertools) (2020.1)\n",
      "Requirement already satisfied: python-dateutil>=2.7.3 in c:\\users\\matthewkent.regalado\\appdata\\roaming\\python\\python37\\site-packages (from pandas->advertools) (2.8.1)\n",
      "Requirement already satisfied: six>=1.5 in c:\\users\\matthewkent.regalado\\anaconda3\\envs\\project-env\\lib\\site-packages (from python-dateutil>=2.7.3->pandas->advertools) (1.15.0)\n",
      "Requirement already satisfied: itemloaders>=1.0.1 in c:\\users\\matthewkent.regalado\\anaconda3\\envs\\project-env\\lib\\site-packages (from scrapy->advertools) (1.0.4)\n",
      "Requirement already satisfied: service-identity>=16.0.0 in c:\\users\\matthewkent.regalado\\anaconda3\\envs\\project-env\\lib\\site-packages (from scrapy->advertools) (21.1.0)\n",
      "Requirement already satisfied: lxml>=3.5.0 in c:\\users\\matthewkent.regalado\\anaconda3\\envs\\project-env\\lib\\site-packages (from scrapy->advertools) (4.6.3)\n",
      "Requirement already satisfied: itemadapter>=0.1.0 in c:\\users\\matthewkent.regalado\\anaconda3\\envs\\project-env\\lib\\site-packages (from scrapy->advertools) (0.2.0)\n",
      "Requirement already satisfied: cryptography>=2.0 in c:\\users\\matthewkent.regalado\\anaconda3\\envs\\project-env\\lib\\site-packages (from scrapy->advertools) (3.4.6)\n",
      "Requirement already satisfied: pyOpenSSL>=16.2.0 in c:\\users\\matthewkent.regalado\\anaconda3\\envs\\project-env\\lib\\site-packages (from scrapy->advertools) (20.0.1)\n",
      "Requirement already satisfied: Twisted[http2]>=17.9.0 in c:\\users\\matthewkent.regalado\\anaconda3\\envs\\project-env\\lib\\site-packages (from scrapy->advertools) (21.2.0)\n",
      "Requirement already satisfied: h2<4.0,>=3.0 in c:\\users\\matthewkent.regalado\\anaconda3\\envs\\project-env\\lib\\site-packages (from scrapy->advertools) (3.2.0)\n",
      "Requirement already satisfied: queuelib>=1.4.2 in c:\\users\\matthewkent.regalado\\anaconda3\\envs\\project-env\\lib\\site-packages (from scrapy->advertools) (1.6.1)\n",
      "Requirement already satisfied: protego>=0.1.15 in c:\\users\\matthewkent.regalado\\anaconda3\\envs\\project-env\\lib\\site-packages (from scrapy->advertools) (0.1.16)\n",
      "Requirement already satisfied: w3lib>=1.17.0 in c:\\users\\matthewkent.regalado\\anaconda3\\envs\\project-env\\lib\\site-packages (from scrapy->advertools) (1.22.0)\n",
      "Requirement already satisfied: parsel>=1.5.0 in c:\\users\\matthewkent.regalado\\anaconda3\\envs\\project-env\\lib\\site-packages (from scrapy->advertools) (1.6.0)\n",
      "Requirement already satisfied: PyDispatcher>=2.0.5 in c:\\users\\matthewkent.regalado\\anaconda3\\envs\\project-env\\lib\\site-packages (from scrapy->advertools) (2.0.5)\n",
      "Requirement already satisfied: zope.interface>=4.1.3 in c:\\users\\matthewkent.regalado\\anaconda3\\envs\\project-env\\lib\\site-packages (from scrapy->advertools) (5.4.0)\n",
      "Requirement already satisfied: cssselect>=0.9.1 in c:\\users\\matthewkent.regalado\\anaconda3\\envs\\project-env\\lib\\site-packages (from scrapy->advertools) (1.1.0)\n",
      "Requirement already satisfied: cffi>=1.12 in c:\\users\\matthewkent.regalado\\anaconda3\\envs\\project-env\\lib\\site-packages (from cryptography>=2.0->scrapy->advertools) (1.14.5)\n",
      "Requirement already satisfied: pycparser in c:\\users\\matthewkent.regalado\\anaconda3\\envs\\project-env\\lib\\site-packages (from cffi>=1.12->cryptography>=2.0->scrapy->advertools) (2.20)\n",
      "Requirement already satisfied: hpack<4,>=3.0 in c:\\users\\matthewkent.regalado\\anaconda3\\envs\\project-env\\lib\\site-packages (from h2<4.0,>=3.0->scrapy->advertools) (3.0.0)\n",
      "Requirement already satisfied: hyperframe<6,>=5.2.0 in c:\\users\\matthewkent.regalado\\anaconda3\\envs\\project-env\\lib\\site-packages (from h2<4.0,>=3.0->scrapy->advertools) (5.2.0)\n",
      "Requirement already satisfied: jmespath>=0.9.5 in c:\\users\\matthewkent.regalado\\anaconda3\\envs\\project-env\\lib\\site-packages (from itemloaders>=1.0.1->scrapy->advertools) (0.10.0)\n",
      "Requirement already satisfied: pyasn1-modules in c:\\users\\matthewkent.regalado\\anaconda3\\envs\\project-env\\lib\\site-packages (from service-identity>=16.0.0->scrapy->advertools) (0.2.8)\n",
      "Requirement already satisfied: attrs>=19.1.0 in c:\\users\\matthewkent.regalado\\anaconda3\\envs\\project-env\\lib\\site-packages (from service-identity>=16.0.0->scrapy->advertools) (20.3.0)\n",
      "Requirement already satisfied: constantly>=15.1 in c:\\users\\matthewkent.regalado\\anaconda3\\envs\\project-env\\lib\\site-packages (from Twisted[http2]>=17.9.0->scrapy->advertools) (15.1.0)\n",
      "Requirement already satisfied: hyperlink>=17.1.1 in c:\\users\\matthewkent.regalado\\anaconda3\\envs\\project-env\\lib\\site-packages (from Twisted[http2]>=17.9.0->scrapy->advertools) (21.0.0)\n",
      "Requirement already satisfied: incremental>=16.10.1 in c:\\users\\matthewkent.regalado\\anaconda3\\envs\\project-env\\lib\\site-packages (from Twisted[http2]>=17.9.0->scrapy->advertools) (21.3.0)\n",
      "Requirement already satisfied: twisted-iocpsupport~=1.0.0 in c:\\users\\matthewkent.regalado\\anaconda3\\envs\\project-env\\lib\\site-packages (from Twisted[http2]>=17.9.0->scrapy->advertools) (1.0.1)\n",
      "Requirement already satisfied: Automat>=0.8.0 in c:\\users\\matthewkent.regalado\\anaconda3\\envs\\project-env\\lib\\site-packages (from Twisted[http2]>=17.9.0->scrapy->advertools) (20.2.0)\n",
      "Requirement already satisfied: priority<2.0,>=1.1.0 in c:\\users\\matthewkent.regalado\\anaconda3\\envs\\project-env\\lib\\site-packages (from Twisted[http2]>=17.9.0->scrapy->advertools) (1.3.0)\n",
      "Requirement already satisfied: idna>=2.5 in c:\\users\\matthewkent.regalado\\anaconda3\\envs\\project-env\\lib\\site-packages (from hyperlink>=17.1.1->Twisted[http2]>=17.9.0->scrapy->advertools) (2.6)\n",
      "Requirement already satisfied: setuptools in c:\\users\\matthewkent.regalado\\anaconda3\\envs\\project-env\\lib\\site-packages (from zope.interface>=4.1.3->scrapy->advertools) (52.0.0.post20210125)\n",
      "Requirement already satisfied: requests>=2.1.0 in c:\\users\\matthewkent.regalado\\anaconda3\\envs\\project-env\\lib\\site-packages (from twython->advertools) (2.23.0)\n",
      "Requirement already satisfied: requests-oauthlib>=0.4.0 in c:\\users\\matthewkent.regalado\\anaconda3\\envs\\project-env\\lib\\site-packages (from twython->advertools) (1.3.0)\n",
      "Requirement already satisfied: urllib3!=1.25.0,!=1.25.1,<1.26,>=1.21.1 in c:\\users\\matthewkent.regalado\\anaconda3\\envs\\project-env\\lib\\site-packages (from requests>=2.1.0->twython->advertools) (1.22)\n",
      "Requirement already satisfied: certifi>=2017.4.17 in c:\\users\\matthewkent.regalado\\anaconda3\\envs\\project-env\\lib\\site-packages (from requests>=2.1.0->twython->advertools) (2021.5.30)\n",
      "Requirement already satisfied: chardet<4,>=3.0.2 in c:\\users\\matthewkent.regalado\\anaconda3\\envs\\project-env\\lib\\site-packages (from requests>=2.1.0->twython->advertools) (3.0.4)\n",
      "Requirement already satisfied: oauthlib>=3.0.0 in c:\\users\\matthewkent.regalado\\anaconda3\\envs\\project-env\\lib\\site-packages (from requests-oauthlib>=0.4.0->twython->advertools) (3.1.1)\n"
     ]
    }
   ],
   "source": [
    "!{sys.executable} -m pip install advertools"
   ]
  },
  {
   "cell_type": "code",
   "execution_count": 3,
   "metadata": {},
   "outputs": [],
   "source": [
    "gps_df = pd.read_csv('data/play_store_reviews.csv')\n",
    "as_df = pd.read_csv('data/app_store_reviews.csv')\n",
    "combined_df = pd.read_csv('data/combined_reviews.csv')\n",
    "\n",
    "# convert date columns to datetime since dtypes aren't preserved in csv files\n",
    "gps_df['at'] = pd.to_datetime(gps_df['at'])\n",
    "as_df['date'] = pd.to_datetime(as_df['date'])\n",
    "combined_df['date'] = pd.to_datetime(combined_df['date'])"
   ]
  },
  {
   "cell_type": "code",
   "execution_count": 4,
   "metadata": {},
   "outputs": [
    {
     "data": {
      "text/html": [
       "<div>\n",
       "<style scoped>\n",
       "    .dataframe tbody tr th:only-of-type {\n",
       "        vertical-align: middle;\n",
       "    }\n",
       "\n",
       "    .dataframe tbody tr th {\n",
       "        vertical-align: top;\n",
       "    }\n",
       "\n",
       "    .dataframe thead th {\n",
       "        text-align: right;\n",
       "    }\n",
       "</style>\n",
       "<table border=\"1\" class=\"dataframe\">\n",
       "  <thead>\n",
       "    <tr style=\"text-align: right;\">\n",
       "      <th></th>\n",
       "      <th>content</th>\n",
       "      <th>score</th>\n",
       "      <th>at</th>\n",
       "    </tr>\n",
       "  </thead>\n",
       "  <tbody>\n",
       "    <tr>\n",
       "      <th>0</th>\n",
       "      <td>Friendly user.</td>\n",
       "      <td>5</td>\n",
       "      <td>2020-08-05 06:23:06</td>\n",
       "    </tr>\n",
       "    <tr>\n",
       "      <th>1</th>\n",
       "      <td>nice and easy</td>\n",
       "      <td>5</td>\n",
       "      <td>2021-05-07 12:10:07</td>\n",
       "    </tr>\n",
       "    <tr>\n",
       "      <th>2</th>\n",
       "      <td>Amazing gcash</td>\n",
       "      <td>5</td>\n",
       "      <td>2021-04-11 06:13:37</td>\n",
       "    </tr>\n",
       "    <tr>\n",
       "      <th>3</th>\n",
       "      <td>Nice apps ever last thing 🔥🔥🔥🔥🔥😍😍😍😍😍😘😘😘😘😘</td>\n",
       "      <td>5</td>\n",
       "      <td>2021-02-26 01:45:39</td>\n",
       "    </tr>\n",
       "    <tr>\n",
       "      <th>4</th>\n",
       "      <td>Very convinience</td>\n",
       "      <td>5</td>\n",
       "      <td>2020-08-02 04:48:25</td>\n",
       "    </tr>\n",
       "  </tbody>\n",
       "</table>\n",
       "</div>"
      ],
      "text/plain": [
       "                                     content  score                  at\n",
       "0                             Friendly user.      5 2020-08-05 06:23:06\n",
       "1                              nice and easy      5 2021-05-07 12:10:07\n",
       "2                              Amazing gcash      5 2021-04-11 06:13:37\n",
       "3  Nice apps ever last thing 🔥🔥🔥🔥🔥😍😍😍😍😍😘😘😘😘😘      5 2021-02-26 01:45:39\n",
       "4                           Very convinience      5 2020-08-02 04:48:25"
      ]
     },
     "execution_count": 4,
     "metadata": {},
     "output_type": "execute_result"
    }
   ],
   "source": [
    "# drop unnecessary columns\n",
    "gps_df = gps_df.drop(['reviewId', 'userName', 'userImage', 'thumbsUpCount', 'reviewCreatedVersion', 'replyContent', 'repliedAt'], axis=1)\n",
    "gps_df.head()"
   ]
  },
  {
   "cell_type": "code",
   "execution_count": 5,
   "metadata": {},
   "outputs": [
    {
     "data": {
      "text/html": [
       "<div>\n",
       "<style scoped>\n",
       "    .dataframe tbody tr th:only-of-type {\n",
       "        vertical-align: middle;\n",
       "    }\n",
       "\n",
       "    .dataframe tbody tr th {\n",
       "        vertical-align: top;\n",
       "    }\n",
       "\n",
       "    .dataframe thead th {\n",
       "        text-align: right;\n",
       "    }\n",
       "</style>\n",
       "<table border=\"1\" class=\"dataframe\">\n",
       "  <thead>\n",
       "    <tr style=\"text-align: right;\">\n",
       "      <th></th>\n",
       "      <th>date</th>\n",
       "      <th>review</th>\n",
       "      <th>rating</th>\n",
       "    </tr>\n",
       "  </thead>\n",
       "  <tbody>\n",
       "    <tr>\n",
       "      <th>0</th>\n",
       "      <td>2021-02-17 06:32:13</td>\n",
       "      <td>Nakakadismaya naman. Dati okay naman yung gcas...</td>\n",
       "      <td>1</td>\n",
       "    </tr>\n",
       "    <tr>\n",
       "      <th>1</th>\n",
       "      <td>2020-03-24 03:28:48</td>\n",
       "      <td>Don’t ever put your money here! My transaction...</td>\n",
       "      <td>1</td>\n",
       "    </tr>\n",
       "    <tr>\n",
       "      <th>2</th>\n",
       "      <td>2020-09-15 16:58:57</td>\n",
       "      <td>Best as it has no fees. Wish they had rebates ...</td>\n",
       "      <td>5</td>\n",
       "    </tr>\n",
       "    <tr>\n",
       "      <th>3</th>\n",
       "      <td>2020-06-07 09:31:21</td>\n",
       "      <td>Gcash has been very helpful in many ways to me...</td>\n",
       "      <td>1</td>\n",
       "    </tr>\n",
       "    <tr>\n",
       "      <th>4</th>\n",
       "      <td>2020-09-25 09:19:47</td>\n",
       "      <td>I USED METROBANK INSTAPAY TO CASH IN BUT UNTIL...</td>\n",
       "      <td>1</td>\n",
       "    </tr>\n",
       "  </tbody>\n",
       "</table>\n",
       "</div>"
      ],
      "text/plain": [
       "                 date                                             review  \\\n",
       "0 2021-02-17 06:32:13  Nakakadismaya naman. Dati okay naman yung gcas...   \n",
       "1 2020-03-24 03:28:48  Don’t ever put your money here! My transaction...   \n",
       "2 2020-09-15 16:58:57  Best as it has no fees. Wish they had rebates ...   \n",
       "3 2020-06-07 09:31:21  Gcash has been very helpful in many ways to me...   \n",
       "4 2020-09-25 09:19:47  I USED METROBANK INSTAPAY TO CASH IN BUT UNTIL...   \n",
       "\n",
       "   rating  \n",
       "0       1  \n",
       "1       1  \n",
       "2       5  \n",
       "3       1  \n",
       "4       1  "
      ]
     },
     "execution_count": 5,
     "metadata": {},
     "output_type": "execute_result"
    }
   ],
   "source": [
    "as_df = as_df.drop(['title', 'userName', 'isEdited', 'developerResponse'], axis=1)\n",
    "as_df.head()"
   ]
  },
  {
   "cell_type": "code",
   "execution_count": 6,
   "metadata": {},
   "outputs": [
    {
     "data": {
      "text/html": [
       "<div>\n",
       "<style scoped>\n",
       "    .dataframe tbody tr th:only-of-type {\n",
       "        vertical-align: middle;\n",
       "    }\n",
       "\n",
       "    .dataframe tbody tr th {\n",
       "        vertical-align: top;\n",
       "    }\n",
       "\n",
       "    .dataframe thead th {\n",
       "        text-align: right;\n",
       "    }\n",
       "</style>\n",
       "<table border=\"1\" class=\"dataframe\">\n",
       "  <thead>\n",
       "    <tr style=\"text-align: right;\">\n",
       "      <th></th>\n",
       "      <th>date</th>\n",
       "      <th>review</th>\n",
       "      <th>rating</th>\n",
       "    </tr>\n",
       "  </thead>\n",
       "  <tbody>\n",
       "    <tr>\n",
       "      <th>0</th>\n",
       "      <td>2021-02-17 06:32:13</td>\n",
       "      <td>Nakakadismaya naman. Dati okay naman yung gcas...</td>\n",
       "      <td>1</td>\n",
       "    </tr>\n",
       "    <tr>\n",
       "      <th>1</th>\n",
       "      <td>2020-03-24 03:28:48</td>\n",
       "      <td>Don’t ever put your money here! My transaction...</td>\n",
       "      <td>1</td>\n",
       "    </tr>\n",
       "    <tr>\n",
       "      <th>2</th>\n",
       "      <td>2020-09-15 16:58:57</td>\n",
       "      <td>Best as it has no fees. Wish they had rebates ...</td>\n",
       "      <td>5</td>\n",
       "    </tr>\n",
       "    <tr>\n",
       "      <th>3</th>\n",
       "      <td>2020-06-07 09:31:21</td>\n",
       "      <td>Gcash has been very helpful in many ways to me...</td>\n",
       "      <td>1</td>\n",
       "    </tr>\n",
       "    <tr>\n",
       "      <th>4</th>\n",
       "      <td>2020-09-25 09:19:47</td>\n",
       "      <td>I USED METROBANK INSTAPAY TO CASH IN BUT UNTIL...</td>\n",
       "      <td>1</td>\n",
       "    </tr>\n",
       "  </tbody>\n",
       "</table>\n",
       "</div>"
      ],
      "text/plain": [
       "                 date                                             review  \\\n",
       "0 2021-02-17 06:32:13  Nakakadismaya naman. Dati okay naman yung gcas...   \n",
       "1 2020-03-24 03:28:48  Don’t ever put your money here! My transaction...   \n",
       "2 2020-09-15 16:58:57  Best as it has no fees. Wish they had rebates ...   \n",
       "3 2020-06-07 09:31:21  Gcash has been very helpful in many ways to me...   \n",
       "4 2020-09-25 09:19:47  I USED METROBANK INSTAPAY TO CASH IN BUT UNTIL...   \n",
       "\n",
       "   rating  \n",
       "0       1  \n",
       "1       1  \n",
       "2       5  \n",
       "3       1  \n",
       "4       1  "
      ]
     },
     "execution_count": 6,
     "metadata": {},
     "output_type": "execute_result"
    }
   ],
   "source": [
    "combined_df.head()"
   ]
  },
  {
   "cell_type": "markdown",
   "metadata": {},
   "source": [
    "## Plain text to bag-of-words (BOW)\n",
    "---"
   ]
  },
  {
   "cell_type": "code",
   "execution_count": 33,
   "metadata": {},
   "outputs": [
    {
     "name": "stderr",
     "output_type": "stream",
     "text": [
      "[nltk_data] Downloading package punkt to\n",
      "[nltk_data]     C:\\Users\\matthewkent.regalado\\AppData\\Roaming\\nltk_dat\n",
      "[nltk_data]     a...\n",
      "[nltk_data]   Package punkt is already up-to-date!\n",
      "[nltk_data] Downloading package wordnet to\n",
      "[nltk_data]     C:\\Users\\matthewkent.regalado\\AppData\\Roaming\\nltk_dat\n",
      "[nltk_data]     a...\n",
      "[nltk_data]   Package wordnet is already up-to-date!\n",
      "[nltk_data] Downloading package stopwords to\n",
      "[nltk_data]     C:\\Users\\matthewkent.regalado\\AppData\\Roaming\\nltk_dat\n",
      "[nltk_data]     a...\n",
      "[nltk_data]   Package stopwords is already up-to-date!\n"
     ]
    }
   ],
   "source": [
    "import re\n",
    "import nltk\n",
    "import advertools as adv\n",
    "from nltk import word_tokenize          \n",
    "from nltk.corpus import stopwords\n",
    "from nltk.stem import WordNetLemmatizer \n",
    "\n",
    "nltk.download('punkt')\n",
    "nltk.download('wordnet')\n",
    "nltk.download('stopwords')\n",
    "\n",
    "# concatenate english and tagalog stopwords into one list\n",
    "stop_words = stopwords.words('english') + list(adv.stopwords['tagalog'])\n",
    "\n",
    "token_pattern = re.compile(r\"(?u)\\b\\w\\w+\\b\")\n",
    "\n",
    "class LemmaTokenizer(object):\n",
    "    def __init__(self):\n",
    "        self.wnl = WordNetLemmatizer()\n",
    "    def __call__(self, doc):\n",
    "        return [self.wnl.lemmatize(t) for t in word_tokenize(doc) if len(t) >= 2 and re.match(\"[a-z].*\",t) \n",
    "                and re.match(token_pattern, t)]"
   ]
  },
  {
   "cell_type": "markdown",
   "metadata": {},
   "source": [
    "### Tokenize and lemmatize review data"
   ]
  },
  {
   "cell_type": "code",
   "execution_count": 36,
   "metadata": {},
   "outputs": [
    {
     "name": "stdout",
     "output_type": "stream",
     "text": [
      "Tokenizing and counting, this may take a few minutes...\n"
     ]
    },
    {
     "name": "stderr",
     "output_type": "stream",
     "text": [
      "C:\\Users\\matthewkent.regalado\\Anaconda3\\envs\\project-env\\lib\\site-packages\\sklearn\\feature_extraction\\text.py:391: UserWarning: Your stop_words may be inconsistent with your preprocessing. Tokenizing the stop words generated tokens ['could', 'doe', 'ha', 'might', 'must', 'need', 'sha', 'wa', 'wo', 'would'] not in stop_words.\n",
      "  'stop_words.' % sorted(inconsistent))\n"
     ]
    },
    {
     "name": "stdout",
     "output_type": "stream",
     "text": [
      "vocab size: 1934\n",
      "Done. Time elapsed: 0.90s\n"
     ]
    }
   ],
   "source": [
    "import time\n",
    "from sklearn.feature_extraction.text import CountVectorizer\n",
    "\n",
    "data = []\n",
    "data = as_df.review.values.tolist()\n",
    "vocab_size = 2000\n",
    "\n",
    "print('Tokenizing and counting, this may take a few minutes...')\n",
    "start_time = time.time()\n",
    "vectorizer = CountVectorizer(\n",
    "    input='content', \n",
    "    analyzer='word', \n",
    "    stop_words=stop_words,\n",
    "    tokenizer=LemmaTokenizer(), \n",
    "    max_features=vocab_size, \n",
    "    max_df=0.95, \n",
    "    min_df=2\n",
    ")\n",
    "\n",
    "vectors = vectorizer.fit_transform(data)\n",
    "vocab_list = vectorizer.get_feature_names()\n",
    "print('vocab size:', len(vocab_list))\n",
    "\n",
    "# random shuffle\n",
    "idx = np.arange(vectors.shape[0])\n",
    "np.random.shuffle(idx)\n",
    "vectors = vectors[idx]\n",
    "\n",
    "print('Done. Time elapsed: {:.2f}s'.format(time.time() - start_time))"
   ]
  },
  {
   "cell_type": "markdown",
   "metadata": {},
   "source": [
    "### Remove reviews shorter than three words\n",
    "Very short reviews won't be able to express more than a single topic"
   ]
  },
  {
   "cell_type": "code",
   "execution_count": 40,
   "metadata": {},
   "outputs": [
    {
     "name": "stdout",
     "output_type": "stream",
     "text": [
      "removed short docs (<3 words)\n",
      "(1508, 1934)\n",
      "\n",
      "(<class 'scipy.sparse.csr.csr_matrix'>, dtype('int64'))\n",
      "  (0, 624)\t2\n",
      "  (0, 671)\t1\n",
      "  (0, 969)\t1\n",
      "  (0, 1572)\t1\n",
      "  (0, 808)\t1\n",
      "  (0, 1431)\t1\n",
      "  (0, 1350)\t1\n",
      "  (0, 1662)\t1\n",
      "  (0, 1397)\t1\n",
      "  (0, 1281)\t1\n",
      "  (0, 286)\t1\n",
      "  (0, 1776)\t1\n"
     ]
    }
   ],
   "source": [
    "threshold = 3\n",
    "vectors = vectors[np.array(vectors.sum(axis=1)>threshold).reshape(-1,)]\n",
    "print('removed short docs (<{} words)'.format(threshold))        \n",
    "print(vectors.shape)\n",
    "\n",
    "print(f'\\n{type(vectors), vectors.dtype}')\n",
    "print(vectors[0])"
   ]
  },
  {
   "cell_type": "markdown",
   "metadata": {},
   "source": [
    "### Type-cast input dat to np.float32 since all the params (i.e. weights and biases) in the NTM model will also be in that dtype\n",
    "This is the more optimal approach as opposed to repeatedly type-casting during mini-batch training"
   ]
  },
  {
   "cell_type": "code",
   "execution_count": 41,
   "metadata": {},
   "outputs": [
    {
     "name": "stdout",
     "output_type": "stream",
     "text": [
      "<class 'scipy.sparse.csr.csr_matrix'> float32\n"
     ]
    }
   ],
   "source": [
    "import scipy.sparse as sparse\n",
    "\n",
    "vectors = sparse.csr_matrix(vectors, dtype=np.float32)\n",
    "print(type(vectors), vectors.dtype)"
   ]
  },
  {
   "cell_type": "markdown",
   "metadata": {},
   "source": [
    "### Split data to training (20%), validation (40%), and test (40%) datasets"
   ]
  },
  {
   "cell_type": "code",
   "execution_count": 43,
   "metadata": {},
   "outputs": [
    {
     "name": "stdout",
     "output_type": "stream",
     "text": [
      "(301, 1934) (604, 1934) (603, 1934)\n"
     ]
    }
   ],
   "source": [
    "n_train = int(0.2 * vectors.shape[0])\n",
    "\n",
    "# split train and test\n",
    "train_vectors = vectors[:n_train, :]\n",
    "test_vectors = vectors[n_train:, :]\n",
    "\n",
    "# further split test set into validation set (val_vectors) and test  set (test_vectors)\n",
    "n_test = test_vectors.shape[0]\n",
    "val_vectors = test_vectors[:n_test//2, :]\n",
    "test_vectors = test_vectors[n_test//2:, :]\n",
    "\n",
    "print(train_vectors.shape, test_vectors.shape, val_vectors.shape)"
   ]
  },
  {
   "cell_type": "markdown",
   "metadata": {},
   "source": [
    "## Store data in S3\n",
    "---"
   ]
  },
  {
   "cell_type": "code",
   "execution_count": null,
   "metadata": {},
   "outputs": [],
   "source": [
    "import os\n",
    "from sagemaker import get_execution_role\n",
    "\n",
    "role = get_execution_role()\n",
    "\n",
    "bucket = # <insert your own bucket name here as a string> #\n",
    "prefix = 'NTM'\n",
    "\n",
    "train_prefix = os.path.join(prefix, 'train')\n",
    "val_prefix = os.path.join(prefix, 'val')\n",
    "output_prefix = os.path.join(prefix, 'output')\n",
    "\n",
    "s3_train_data = os.path.join('s3://', bucket, train_prefix)\n",
    "s3_val_data = os.path.join('s3://', bucket, val_prefix)\n",
    "output_path = os.path.join('s3://', bucket, output_prefix)\n",
    "print('Training set location', s3_train_data)\n",
    "print('Validation set location', s3_val_data)\n",
    "print('Trained model will be saved at', output_path)"
   ]
  },
  {
   "cell_type": "markdown",
   "metadata": {},
   "source": [
    "## Data exploration\n",
    "---"
   ]
  },
  {
   "cell_type": "code",
   "execution_count": 67,
   "metadata": {
    "execution": {
     "iopub.execute_input": "2021-06-15T03:09:52.920033Z",
     "iopub.status.busy": "2021-06-15T03:09:52.919677Z",
     "iopub.status.idle": "2021-06-15T03:09:54.561209Z",
     "shell.execute_reply": "2021-06-15T03:09:54.560238Z",
     "shell.execute_reply.started": "2021-06-15T03:09:52.919981Z"
    }
   },
   "outputs": [
    {
     "data": {
      "image/png": "[encoded data removed]",
      "text/plain": [
       "<Figure size 2160x720 with 2 Axes>"
      ]
     },
     "metadata": {},
     "output_type": "display_data"
    }
   ],
   "source": [
    "plt.style.use('fivethirtyeight')\n",
    "\n",
    "fig, axes = plt.subplots(1, 2, figsize=(30, 10))\n",
    "\n",
    "ps_plot = sns.histplot(ax=axes[0], data=gps_df, x='at', hue='score', palette='Paired', kde=True)\n",
    "ps_plot.title.set_text('\\nGoogle Play Store\\nReview count from 2020-01 to 2021-06\\n')\n",
    "as_plot = sns.histplot(ax=axes[1], data=as_df, x='date', hue='rating', palette='Paired', kde=True)\n",
    "as_plot.title.set_text('\\nApp Store\\nReview count from 2020-01 to 2021-06\\n')"
   ]
  },
  {
   "cell_type": "code",
   "execution_count": 134,
   "metadata": {
    "execution": {
     "iopub.execute_input": "2021-06-15T04:21:46.523408Z",
     "iopub.status.busy": "2021-06-15T04:21:46.523088Z",
     "iopub.status.idle": "2021-06-15T04:21:46.544362Z",
     "shell.execute_reply": "2021-06-15T04:21:46.543814Z",
     "shell.execute_reply.started": "2021-06-15T04:21:46.523381Z"
    }
   },
   "outputs": [
    {
     "data": {
      "text/html": [
       "<div>\n",
       "<style scoped>\n",
       "    .dataframe tbody tr th:only-of-type {\n",
       "        vertical-align: middle;\n",
       "    }\n",
       "\n",
       "    .dataframe tbody tr th {\n",
       "        vertical-align: top;\n",
       "    }\n",
       "\n",
       "    .dataframe thead th {\n",
       "        text-align: right;\n",
       "    }\n",
       "</style>\n",
       "<table border=\"1\" class=\"dataframe\">\n",
       "  <thead>\n",
       "    <tr style=\"text-align: right;\">\n",
       "      <th></th>\n",
       "      <th>reviewId</th>\n",
       "      <th>userName</th>\n",
       "      <th>userImage</th>\n",
       "      <th>content</th>\n",
       "      <th>score</th>\n",
       "      <th>thumbsUpCount</th>\n",
       "      <th>reviewCreatedVersion</th>\n",
       "      <th>at</th>\n",
       "      <th>replyContent</th>\n",
       "      <th>repliedAt</th>\n",
       "    </tr>\n",
       "  </thead>\n",
       "  <tbody>\n",
       "    <tr>\n",
       "      <th>0</th>\n",
       "      <td>gp:AOqpTOEl7oPknT2b9M2Tv6OzXgSLepD5aKu8YU0nEMW...</td>\n",
       "      <td>JICS Vlog</td>\n",
       "      <td>https://play-lh.googleusercontent.com/a-/AOh14...</td>\n",
       "      <td>Friendly user.</td>\n",
       "      <td>5</td>\n",
       "      <td>0</td>\n",
       "      <td>5.30.2</td>\n",
       "      <td>2020-08-05 06:23:06</td>\n",
       "      <td>NaN</td>\n",
       "      <td>NaN</td>\n",
       "    </tr>\n",
       "    <tr>\n",
       "      <th>1</th>\n",
       "      <td>gp:AOqpTOFo-LetHyD2NcWIvuRHNTSyXuKVgUhU5kAAm28...</td>\n",
       "      <td>Noel Tayson</td>\n",
       "      <td>https://play-lh.googleusercontent.com/a/AATXAJ...</td>\n",
       "      <td>nice and easy</td>\n",
       "      <td>5</td>\n",
       "      <td>0</td>\n",
       "      <td>NaN</td>\n",
       "      <td>2021-05-07 12:10:07</td>\n",
       "      <td>NaN</td>\n",
       "      <td>NaN</td>\n",
       "    </tr>\n",
       "    <tr>\n",
       "      <th>2</th>\n",
       "      <td>gp:AOqpTOFeGgHnhKX2H9esKGPNeep2n_G17KE-CK05r3y...</td>\n",
       "      <td>Rachel Salazar</td>\n",
       "      <td>https://play-lh.googleusercontent.com/a-/AOh14...</td>\n",
       "      <td>Amazing gcash</td>\n",
       "      <td>5</td>\n",
       "      <td>0</td>\n",
       "      <td>5.39.1</td>\n",
       "      <td>2021-04-11 06:13:37</td>\n",
       "      <td>NaN</td>\n",
       "      <td>NaN</td>\n",
       "    </tr>\n",
       "    <tr>\n",
       "      <th>3</th>\n",
       "      <td>gp:AOqpTOH-FI8Oec_LLGXD2NiLmoFxikh_CEp34tXcPhq...</td>\n",
       "      <td>Allen Requinto</td>\n",
       "      <td>https://play-lh.googleusercontent.com/a-/AOh14...</td>\n",
       "      <td>Nice apps ever last thing 🔥🔥🔥🔥🔥😍😍😍😍😍😘😘😘😘😘</td>\n",
       "      <td>5</td>\n",
       "      <td>0</td>\n",
       "      <td>5.37.0</td>\n",
       "      <td>2021-02-26 01:45:39</td>\n",
       "      <td>NaN</td>\n",
       "      <td>NaN</td>\n",
       "    </tr>\n",
       "    <tr>\n",
       "      <th>4</th>\n",
       "      <td>gp:AOqpTOH-Re9DKgQdaKiabTh5jYV14Msplav15HkpDD3...</td>\n",
       "      <td>Jackielyn Yamato vlog's</td>\n",
       "      <td>https://play-lh.googleusercontent.com/a-/AOh14...</td>\n",
       "      <td>Very convinience</td>\n",
       "      <td>5</td>\n",
       "      <td>0</td>\n",
       "      <td>5.29.1</td>\n",
       "      <td>2020-08-02 04:48:25</td>\n",
       "      <td>NaN</td>\n",
       "      <td>NaN</td>\n",
       "    </tr>\n",
       "    <tr>\n",
       "      <th>...</th>\n",
       "      <td>...</td>\n",
       "      <td>...</td>\n",
       "      <td>...</td>\n",
       "      <td>...</td>\n",
       "      <td>...</td>\n",
       "      <td>...</td>\n",
       "      <td>...</td>\n",
       "      <td>...</td>\n",
       "      <td>...</td>\n",
       "      <td>...</td>\n",
       "    </tr>\n",
       "    <tr>\n",
       "      <th>110601</th>\n",
       "      <td>gp:AOqpTOHA1FAaOUjWWqtHQHSMI9m3hwEBnnMfDW2YtyU...</td>\n",
       "      <td>Rovenlyn Gacad</td>\n",
       "      <td>https://play-lh.googleusercontent.com/a/AATXAJ...</td>\n",
       "      <td>Very nice its help to me in my business load</td>\n",
       "      <td>5</td>\n",
       "      <td>0</td>\n",
       "      <td>5.36.0</td>\n",
       "      <td>2021-03-25 06:39:35</td>\n",
       "      <td>NaN</td>\n",
       "      <td>NaN</td>\n",
       "    </tr>\n",
       "    <tr>\n",
       "      <th>110602</th>\n",
       "      <td>gp:AOqpTOHG5ZoVZlcCaZEV8gg4gYG_0LHklyzliIt-g_C...</td>\n",
       "      <td>Decass The great</td>\n",
       "      <td>https://play-lh.googleusercontent.com/a-/AOh14...</td>\n",
       "      <td>I love gcash..im happy using this app</td>\n",
       "      <td>5</td>\n",
       "      <td>0</td>\n",
       "      <td>5.38.1</td>\n",
       "      <td>2021-04-12 15:21:24</td>\n",
       "      <td>NaN</td>\n",
       "      <td>NaN</td>\n",
       "    </tr>\n",
       "    <tr>\n",
       "      <th>110603</th>\n",
       "      <td>gp:AOqpTOHElESM6dIg9HLw57Ebk3CF9ASF1RyKD5vMrN3...</td>\n",
       "      <td>Melody Gonzales</td>\n",
       "      <td>https://play-lh.googleusercontent.com/a/AATXAJ...</td>\n",
       "      <td>Love it</td>\n",
       "      <td>5</td>\n",
       "      <td>0</td>\n",
       "      <td>5.29.1</td>\n",
       "      <td>2020-07-22 22:47:16</td>\n",
       "      <td>NaN</td>\n",
       "      <td>NaN</td>\n",
       "    </tr>\n",
       "    <tr>\n",
       "      <th>110604</th>\n",
       "      <td>gp:AOqpTOGCFLWKOtJU0ToAThg6Zaack834YSsLfXnhoHu...</td>\n",
       "      <td>Willard Dequilla</td>\n",
       "      <td>https://play-lh.googleusercontent.com/a/AATXAJ...</td>\n",
       "      <td>Very nice</td>\n",
       "      <td>5</td>\n",
       "      <td>0</td>\n",
       "      <td>NaN</td>\n",
       "      <td>2021-05-28 04:05:36</td>\n",
       "      <td>NaN</td>\n",
       "      <td>NaN</td>\n",
       "    </tr>\n",
       "    <tr>\n",
       "      <th>110605</th>\n",
       "      <td>gp:AOqpTOGGBXLPMN7HVWfa7jGH1zTMouPp5UM837PjLE1...</td>\n",
       "      <td>WawaPlays YT</td>\n",
       "      <td>https://play-lh.googleusercontent.com/a-/AOh14...</td>\n",
       "      <td>Why Can't I Verify Using My school I'd this is...</td>\n",
       "      <td>1</td>\n",
       "      <td>0</td>\n",
       "      <td>5.31.0</td>\n",
       "      <td>2020-09-11 00:18:55</td>\n",
       "      <td>NaN</td>\n",
       "      <td>NaN</td>\n",
       "    </tr>\n",
       "  </tbody>\n",
       "</table>\n",
       "<p>110606 rows × 10 columns</p>\n",
       "</div>"
      ],
      "text/plain": [
       "                                                 reviewId  \\\n",
       "0       gp:AOqpTOEl7oPknT2b9M2Tv6OzXgSLepD5aKu8YU0nEMW...   \n",
       "1       gp:AOqpTOFo-LetHyD2NcWIvuRHNTSyXuKVgUhU5kAAm28...   \n",
       "2       gp:AOqpTOFeGgHnhKX2H9esKGPNeep2n_G17KE-CK05r3y...   \n",
       "3       gp:AOqpTOH-FI8Oec_LLGXD2NiLmoFxikh_CEp34tXcPhq...   \n",
       "4       gp:AOqpTOH-Re9DKgQdaKiabTh5jYV14Msplav15HkpDD3...   \n",
       "...                                                   ...   \n",
       "110601  gp:AOqpTOHA1FAaOUjWWqtHQHSMI9m3hwEBnnMfDW2YtyU...   \n",
       "110602  gp:AOqpTOHG5ZoVZlcCaZEV8gg4gYG_0LHklyzliIt-g_C...   \n",
       "110603  gp:AOqpTOHElESM6dIg9HLw57Ebk3CF9ASF1RyKD5vMrN3...   \n",
       "110604  gp:AOqpTOGCFLWKOtJU0ToAThg6Zaack834YSsLfXnhoHu...   \n",
       "110605  gp:AOqpTOGGBXLPMN7HVWfa7jGH1zTMouPp5UM837PjLE1...   \n",
       "\n",
       "                       userName  \\\n",
       "0                     JICS Vlog   \n",
       "1                   Noel Tayson   \n",
       "2                Rachel Salazar   \n",
       "3                Allen Requinto   \n",
       "4       Jackielyn Yamato vlog's   \n",
       "...                         ...   \n",
       "110601           Rovenlyn Gacad   \n",
       "110602         Decass The great   \n",
       "110603          Melody Gonzales   \n",
       "110604         Willard Dequilla   \n",
       "110605             WawaPlays YT   \n",
       "\n",
       "                                                userImage  \\\n",
       "0       https://play-lh.googleusercontent.com/a-/AOh14...   \n",
       "1       https://play-lh.googleusercontent.com/a/AATXAJ...   \n",
       "2       https://play-lh.googleusercontent.com/a-/AOh14...   \n",
       "3       https://play-lh.googleusercontent.com/a-/AOh14...   \n",
       "4       https://play-lh.googleusercontent.com/a-/AOh14...   \n",
       "...                                                   ...   \n",
       "110601  https://play-lh.googleusercontent.com/a/AATXAJ...   \n",
       "110602  https://play-lh.googleusercontent.com/a-/AOh14...   \n",
       "110603  https://play-lh.googleusercontent.com/a/AATXAJ...   \n",
       "110604  https://play-lh.googleusercontent.com/a/AATXAJ...   \n",
       "110605  https://play-lh.googleusercontent.com/a-/AOh14...   \n",
       "\n",
       "                                                  content  score  \\\n",
       "0                                          Friendly user.      5   \n",
       "1                                           nice and easy      5   \n",
       "2                                           Amazing gcash      5   \n",
       "3               Nice apps ever last thing 🔥🔥🔥🔥🔥😍😍😍😍😍😘😘😘😘😘      5   \n",
       "4                                        Very convinience      5   \n",
       "...                                                   ...    ...   \n",
       "110601       Very nice its help to me in my business load      5   \n",
       "110602              I love gcash..im happy using this app      5   \n",
       "110603                                            Love it      5   \n",
       "110604                                          Very nice      5   \n",
       "110605  Why Can't I Verify Using My school I'd this is...      1   \n",
       "\n",
       "        thumbsUpCount reviewCreatedVersion                  at replyContent  \\\n",
       "0                   0               5.30.2 2020-08-05 06:23:06          NaN   \n",
       "1                   0                  NaN 2021-05-07 12:10:07          NaN   \n",
       "2                   0               5.39.1 2021-04-11 06:13:37          NaN   \n",
       "3                   0               5.37.0 2021-02-26 01:45:39          NaN   \n",
       "4                   0               5.29.1 2020-08-02 04:48:25          NaN   \n",
       "...               ...                  ...                 ...          ...   \n",
       "110601              0               5.36.0 2021-03-25 06:39:35          NaN   \n",
       "110602              0               5.38.1 2021-04-12 15:21:24          NaN   \n",
       "110603              0               5.29.1 2020-07-22 22:47:16          NaN   \n",
       "110604              0                  NaN 2021-05-28 04:05:36          NaN   \n",
       "110605              0               5.31.0 2020-09-11 00:18:55          NaN   \n",
       "\n",
       "       repliedAt  \n",
       "0            NaN  \n",
       "1            NaN  \n",
       "2            NaN  \n",
       "3            NaN  \n",
       "4            NaN  \n",
       "...          ...  \n",
       "110601       NaN  \n",
       "110602       NaN  \n",
       "110603       NaN  \n",
       "110604       NaN  \n",
       "110605       NaN  \n",
       "\n",
       "[110606 rows x 10 columns]"
      ]
     },
     "execution_count": 134,
     "metadata": {},
     "output_type": "execute_result"
    }
   ],
   "source": [
    "gps_df"
   ]
  },
  {
   "cell_type": "markdown",
   "metadata": {},
   "source": [
    "## Preprocess data (GPS)\n",
    "---"
   ]
  },
  {
   "cell_type": "markdown",
   "metadata": {},
   "source": [
    "### Remove punctuation from all reviews"
   ]
  },
  {
   "cell_type": "code",
   "execution_count": 68,
   "metadata": {
    "execution": {
     "iopub.execute_input": "2021-06-15T03:11:12.428695Z",
     "iopub.status.busy": "2021-06-15T03:11:12.428306Z",
     "iopub.status.idle": "2021-06-15T03:11:12.892333Z",
     "shell.execute_reply": "2021-06-15T03:11:12.891343Z",
     "shell.execute_reply.started": "2021-06-15T03:11:12.428663Z"
    }
   },
   "outputs": [],
   "source": [
    "import string\n",
    "\n",
    "# init empty list\n",
    "clean_lst = []\n",
    "\n",
    "# for review in as_df['review']:\n",
    "for review in gps_df['content']:\n",
    "    # convert each review to a string to avoid AttributeErrors while using the translate method\n",
    "    str_review = str(review)\n",
    "    clean_review = str_review.translate(str.maketrans('', '', string.punctuation))\n",
    "    clean_lst.append(clean_review)"
   ]
  },
  {
   "cell_type": "markdown",
   "metadata": {},
   "source": [
    "### Remove emojis/emoticons, flags (iOS), pictographs, and transportation and map symbols from all reviews"
   ]
  },
  {
   "cell_type": "code",
   "execution_count": 69,
   "metadata": {
    "execution": {
     "iopub.execute_input": "2021-06-15T03:11:12.894285Z",
     "iopub.status.busy": "2021-06-15T03:11:12.893873Z",
     "iopub.status.idle": "2021-06-15T03:11:13.186328Z",
     "shell.execute_reply": "2021-06-15T03:11:13.185582Z",
     "shell.execute_reply.started": "2021-06-15T03:11:12.894244Z"
    }
   },
   "outputs": [],
   "source": [
    "# init empty list\n",
    "final_lst = []\n",
    "\n",
    "for review in clean_lst:\n",
    "    final_review = review.encode('ascii', 'ignore').decode('ascii')\n",
    "    final_lst.append(final_review.lower().strip())\n",
    "    \n",
    "# set all strings to lowercase and split every line to strings\n",
    "review_lst = [line.split() for line in final_lst]"
   ]
  },
  {
   "cell_type": "markdown",
   "metadata": {},
   "source": [
    "### clean data by removing stopwords and lemmatizing each word using the nltk library"
   ]
  },
  {
   "cell_type": "code",
   "execution_count": 93,
   "metadata": {
    "execution": {
     "iopub.execute_input": "2021-06-15T03:43:56.201294Z",
     "iopub.status.busy": "2021-06-15T03:43:56.200892Z",
     "iopub.status.idle": "2021-06-15T03:43:56.207329Z",
     "shell.execute_reply": "2021-06-15T03:43:56.206227Z",
     "shell.execute_reply.started": "2021-06-15T03:43:56.201244Z"
    }
   },
   "outputs": [],
   "source": [
    "from nltk.corpus import wordnet\n",
    "\n",
    "# Helper function to lemmatize with part of speech (POS) tag\n",
    "def get_wordnet_pos(word):\n",
    "    \"\"\"Map POS tag to first character lemmatize() accepts\"\"\"\n",
    "    tag = nltk.pos_tag([word])[0][1][0].upper()\n",
    "    tag_dict = {\"J\": wordnet.ADJ,\n",
    "                \"N\": wordnet.NOUN,\n",
    "                \"V\": wordnet.VERB,\n",
    "                \"R\": wordnet.ADV}\n",
    "\n",
    "    return tag_dict.get(tag, wordnet.NOUN)"
   ]
  },
  {
   "cell_type": "code",
   "execution_count": 103,
   "metadata": {
    "execution": {
     "iopub.execute_input": "2021-06-15T04:06:46.658751Z",
     "iopub.status.busy": "2021-06-15T04:06:46.658253Z",
     "iopub.status.idle": "2021-06-15T04:08:21.544553Z",
     "shell.execute_reply": "2021-06-15T04:08:21.543517Z",
     "shell.execute_reply.started": "2021-06-15T04:06:46.658716Z"
    }
   },
   "outputs": [
    {
     "name": "stdout",
     "output_type": "stream",
     "text": [
      "[nltk_data] Downloading package stopwords to /usr/share/nltk_data...\n",
      "[nltk_data]   Package stopwords is already up-to-date!\n",
      "\n",
      "Original (length = 38):\n",
      "['PLEASE', 'REMOVE', 'THE', 'SCHOOL', 'ID.', 'I', 'saw', 'on', 'a', 'group', 'that', 'their', 'are', 'people', 'paying', 'just', 'to', 'verify', 'an', 'account.', 'How', 'is', 'that', 'even', 'possible?', '😳', 'ITS', 'LIKE', 'SOME', 'PEOLE', 'IS', 'USING', 'YOUR', 'PLATFORM', 'TO', 'SCAM', 'OTHER', 'PEOPLE.']\n",
      "\n",
      "Preprocessed (length = 18):\n",
      "['please', 'remove', 'school', 'id', 'saw', 'group', 'people', 'pay', 'verify', 'account', 'even', 'possible', 'like', 'peole', 'use', 'platform', 'scam', 'people']\n",
      "\n"
     ]
    }
   ],
   "source": [
    "# https://www.nltk.org/\n",
    "# import the Natural Language Toolkit (nltk) library to further process the parsed word data\n",
    "import nltk\n",
    "import advertools as adv\n",
    "from nltk.corpus import stopwords\n",
    "from textblob import TextBlob, Word\n",
    "from nltk.stem import WordNetLemmatizer\n",
    "\n",
    "# index value\n",
    "value = 29\n",
    "\n",
    "nltk.download('stopwords')\n",
    "stop_words = set(stopwords.words('english'))\n",
    "stop_words.update(adv.stopwords['tagalog'])\n",
    "\n",
    "# Init Wordnet Lemmatizer\n",
    "lemmatizer = WordNetLemmatizer()\n",
    "\n",
    "# Remove stop words from each line and lemmatize each word\n",
    "clean_review_lst = [[lemmatizer.lemmatize(word, get_wordnet_pos(word)) for word in words if not word in stop_words] for words in review_lst]\n",
    "\n",
    "# compare original output from 'cleaned' output \n",
    "print(f'\\nOriginal (length = {len(gps_df.iloc[value, 3].split())}):\\n{gps_df.iloc[value, 3].split()}')\n",
    "print(f'\\nPreprocessed (length = {len(clean_review_lst[value])}):\\n{clean_review_lst[value]}\\n')"
   ]
  },
  {
   "cell_type": "code",
   "execution_count": 105,
   "metadata": {
    "execution": {
     "iopub.execute_input": "2021-06-15T04:10:34.153315Z",
     "iopub.status.busy": "2021-06-15T04:10:34.152942Z",
     "iopub.status.idle": "2021-06-15T04:10:35.700487Z",
     "shell.execute_reply": "2021-06-15T04:10:35.699655Z",
     "shell.execute_reply.started": "2021-06-15T04:10:34.153283Z"
    }
   },
   "outputs": [
    {
     "name": "stdout",
     "output_type": "stream",
     "text": [
      "\n",
      "Original sentence:\n",
      "PLEASE REMOVE THE SCHOOL ID. I saw on a group that their are people paying just to verify an account. How is that even possible? 😳 ITS LIKE SOME PEOLE IS USING YOUR PLATFORM TO SCAM OTHER PEOPLE.\n",
      "\n",
      "Preprocessed sentence:\n",
      "['please', 'remove', 'school', 'id', 'saw', 'group', 'people', 'pay', 'verify', 'account', 'even', 'possible', 'like', 'peole', 'use', 'platform', 'scam', 'people']\n",
      "\n",
      "Tokenized sentence:\n",
      "[33, 283, 292, 16, 1415, 3351, 224, 28, 15, 14, 35, 510, 30, 9736, 6, 933, 222, 224]\n",
      "\n",
      "Padded tokenized sentence:\n",
      "[  33  283  292   16 1415 3351  224   28   15   14   35  510   30 9736\n",
      "    6  933  222  224    0    0    0    0    0    0    0    0    0    0\n",
      "    0    0    0    0    0    0    0    0    0    0    0    0    0    0\n",
      "    0    0    0    0    0    0    0    0    0    0    0    0    0    0\n",
      "    0    0    0    0    0    0    0    0    0    0    0    0    0    0\n",
      "    0    0    0]\n",
      "\n",
      "Shape of tokenized review corpus:\n",
      "(110606, 73)\n"
     ]
    }
   ],
   "source": [
    "from tensorflow.keras.preprocessing.text import Tokenizer\n",
    "from tensorflow.keras.preprocessing.sequence import pad_sequences\n",
    "\n",
    "# initialize the Tokenizer with the oov_token parameter to specify each out of vocab word with a special vocabulary token; <OOV>.\n",
    "# will be added to word_index and used to replace out-of-vocabulary words during text_to_sequence/texts_to_sequences calls\n",
    "tokenizer = Tokenizer(oov_token='<OOV>')\n",
    "\n",
    "# create tokens for every word in the review corpus\n",
    "tokenizer.fit_on_texts(clean_review_lst)\n",
    "word_index = tokenizer.word_index\n",
    "\n",
    "vocab_size = len(tokenizer.word_index) + 1\n",
    "\n",
    "sequences = tokenizer.texts_to_sequences(clean_review_lst)\n",
    "padded_data = pad_sequences(sequences, padding='post')\n",
    "\n",
    "# print(f'Word index:\\n{tokenizer.word_index}')\n",
    "\n",
    "# print(f'\\nOriginal:\\n{as_df.iloc[17, 1]}')\n",
    "print(f'\\nOriginal sentence:\\n{gps_df.iloc[value, 3]}')\n",
    "print(f'\\nPreprocessed sentence:\\n{clean_review_lst[value]}')\n",
    "print(f'\\nTokenized sentence:\\n{sequences[value]}')\n",
    "print(f'\\nPadded tokenized sentence:\\n{padded_data[value]}')\n",
    "print(f'\\nShape of tokenized review corpus:\\n{padded_data.shape}')"
   ]
  },
  {
   "cell_type": "markdown",
   "metadata": {},
   "source": [
    "## Manual train test split\n",
    "---"
   ]
  },
  {
   "cell_type": "code",
   "execution_count": 14,
   "metadata": {
    "execution": {
     "iopub.execute_input": "2021-06-15T00:28:55.935131Z",
     "iopub.status.busy": "2021-06-15T00:28:55.934830Z",
     "iopub.status.idle": "2021-06-15T00:28:55.997030Z",
     "shell.execute_reply": "2021-06-15T00:28:55.996103Z",
     "shell.execute_reply.started": "2021-06-15T00:28:55.935102Z"
    }
   },
   "outputs": [],
   "source": [
    "# reviews = []\n",
    "# labels = []\n",
    "\n",
    "# for line in clean_review_lst:\n",
    "#     temp = ' '.join(line)\n",
    "#     reviews.append(temp)\n",
    "\n",
    "# # use 20% of data for training RNN model\n",
    "# training_size = int(len(reviews)*.2)\n",
    "\n",
    "# sentiment_label = gps_df.score.factorize()\n",
    "# labels = sentiment_label[0]"
   ]
  },
  {
   "cell_type": "code",
   "execution_count": 15,
   "metadata": {
    "execution": {
     "iopub.execute_input": "2021-06-15T00:28:55.998356Z",
     "iopub.status.busy": "2021-06-15T00:28:55.998095Z",
     "iopub.status.idle": "2021-06-15T00:28:56.004631Z",
     "shell.execute_reply": "2021-06-15T00:28:56.003370Z",
     "shell.execute_reply.started": "2021-06-15T00:28:55.998330Z"
    }
   },
   "outputs": [],
   "source": [
    "# training_sentences = reviews[0:training_size]\n",
    "# testing_sentences = reviews[training_size - len(reviews):]\n",
    "# training_labels = labels[0:training_size]\n",
    "# testing_labels = labels[training_size - len(reviews):]"
   ]
  },
  {
   "cell_type": "code",
   "execution_count": 26,
   "metadata": {
    "execution": {
     "iopub.execute_input": "2021-06-15T01:33:01.594120Z",
     "iopub.status.busy": "2021-06-15T01:33:01.593549Z",
     "iopub.status.idle": "2021-06-15T01:33:03.608482Z",
     "shell.execute_reply": "2021-06-15T01:33:03.607562Z",
     "shell.execute_reply.started": "2021-06-15T01:33:01.594088Z"
    }
   },
   "outputs": [],
   "source": [
    "# tokenizer = Tokenizer(num_words=vocab_size, oov_token='<OOV>')\n",
    "# tokenizer.fit_on_texts(training_sentences)\n",
    "\n",
    "# trunc_type='post'\n",
    "# padding_type='post'\n",
    "# word_index = tokenizer.word_index\n",
    "\n",
    "# training_sequences = tokenizer.texts_to_sequences(training_sentences)\n",
    "# training_padded = pad_sequences(training_sequences, padding=padding_type)\n",
    "\n",
    "# testing_sequences = tokenizer.texts_to_sequences(testing_sentences)\n",
    "# testing_padded = pad_sequences(testing_sequences, padding=padding_type)"
   ]
  },
  {
   "cell_type": "code",
   "execution_count": 17,
   "metadata": {
    "execution": {
     "iopub.execute_input": "2021-06-15T00:28:58.034801Z",
     "iopub.status.busy": "2021-06-15T00:28:58.034538Z",
     "iopub.status.idle": "2021-06-15T00:28:58.055409Z",
     "shell.execute_reply": "2021-06-15T00:28:58.054455Z",
     "shell.execute_reply.started": "2021-06-15T00:28:58.034776Z"
    }
   },
   "outputs": [],
   "source": [
    "# # Need this block to get it to work with TensorFlow 2.x\n",
    "# training_padded = np.array(training_padded)\n",
    "# training_labels = np.array(training_labels)\n",
    "# testing_padded = np.array(testing_padded)\n",
    "# testing_labels = np.array(testing_labels)"
   ]
  },
  {
   "cell_type": "markdown",
   "metadata": {},
   "source": [
    "## Build sequential RNN model\n",
    "---"
   ]
  },
  {
   "cell_type": "code",
   "execution_count": 18,
   "metadata": {
    "execution": {
     "iopub.execute_input": "2021-06-15T00:28:58.056766Z",
     "iopub.status.busy": "2021-06-15T00:28:58.056532Z",
     "iopub.status.idle": "2021-06-15T00:28:58.060488Z",
     "shell.execute_reply": "2021-06-15T00:28:58.059608Z",
     "shell.execute_reply.started": "2021-06-15T00:28:58.056743Z"
    }
   },
   "outputs": [],
   "source": [
    "# from tensorflow.keras.layers import Embedding, LSTM, Dense, Dropout, SpatialDropout1D, BatchNormalization\n",
    "# from tensorflow.keras.models import Sequential\n",
    "# from tensorflow.keras.optimizers import SGD, RMSprop, Adam\n",
    "\n",
    "# embedding_vector_length = 128\n",
    "\n",
    "# model = Sequential()\n",
    "# model.add(Embedding(vocab_size, embedding_vector_length))\n",
    "# model.add(LSTM(64, activation='relu', return_sequences=True))\n",
    "# model.add(Dropout(0.2))\n",
    "# # model.add(BatchNormalization())\n",
    "\n",
    "# # model.add(LSTM(32, activation='relu'))\n",
    "# # model.add(Dropout(0.2))\n",
    "# # model.add(BatchNormalization())\n",
    "\n",
    "# # model.add(Dense(16, activation='relu'))\n",
    "# # model.add(Dropout(0.2))\n",
    "# # model.add(Dense(32, activation='relu'))\n",
    "\n",
    "# model.add(Dense(1, activation='sigmoid'))\n",
    "\n",
    "# model.compile(loss='binary_crossentropy', optimizer=Adam(lr=1e-5), metrics=['binary_accuracy'])\n",
    "# model.summary()"
   ]
  },
  {
   "cell_type": "code",
   "execution_count": 98,
   "metadata": {
    "execution": {
     "iopub.execute_input": "2021-06-15T03:47:35.888906Z",
     "iopub.status.busy": "2021-06-15T03:47:35.888436Z",
     "iopub.status.idle": "2021-06-15T03:47:36.809746Z",
     "shell.execute_reply": "2021-06-15T03:47:36.808855Z",
     "shell.execute_reply.started": "2021-06-15T03:47:35.888874Z"
    }
   },
   "outputs": [
    {
     "name": "stdout",
     "output_type": "stream",
     "text": [
      "Model: \"sequential_4\"\n",
      "_________________________________________________________________\n",
      "Layer (type)                 Output Shape              Param #   \n",
      "=================================================================\n",
      "embedding_4 (Embedding)      (None, None, 32)          895520    \n",
      "_________________________________________________________________\n",
      "bidirectional_8 (Bidirection (None, None, 32)          6272      \n",
      "_________________________________________________________________\n",
      "dropout_10 (Dropout)         (None, None, 32)          0         \n",
      "_________________________________________________________________\n",
      "bidirectional_9 (Bidirection (None, 16)                2624      \n",
      "_________________________________________________________________\n",
      "dropout_11 (Dropout)         (None, 16)                0         \n",
      "_________________________________________________________________\n",
      "dense_8 (Dense)              (None, 4)                 68        \n",
      "_________________________________________________________________\n",
      "dropout_12 (Dropout)         (None, 4)                 0         \n",
      "_________________________________________________________________\n",
      "dense_9 (Dense)              (None, 1)                 5         \n",
      "=================================================================\n",
      "Total params: 904,489\n",
      "Trainable params: 904,489\n",
      "Non-trainable params: 0\n",
      "_________________________________________________________________\n"
     ]
    }
   ],
   "source": [
    "from tensorflow.keras.optimizers import SGD, RMSprop, Adam\n",
    "\n",
    "model = tf.keras.Sequential([\n",
    "    tf.keras.layers.Embedding(vocab_size, 32),\n",
    "    tf.keras.layers.Bidirectional(tf.keras.layers.LSTM(16,  return_sequences=True)),\n",
    "    tf.keras.layers.Dropout(0.2),\n",
    "    tf.keras.layers.Bidirectional(tf.keras.layers.LSTM(8)),\n",
    "    tf.keras.layers.Dropout(0.2),\n",
    "    tf.keras.layers.Dense(4, activation='relu'),\n",
    "    tf.keras.layers.Dropout(0.5),\n",
    "    tf.keras.layers.Dense(1, activation='sigmoid')\n",
    "])\n",
    "model.compile(loss='binary_crossentropy', optimizer=Adam(lr=1e-4), metrics=['binary_accuracy'])\n",
    "model.summary()"
   ]
  },
  {
   "cell_type": "code",
   "execution_count": 99,
   "metadata": {
    "execution": {
     "iopub.execute_input": "2021-06-15T03:47:39.192631Z",
     "iopub.status.busy": "2021-06-15T03:47:39.192292Z",
     "iopub.status.idle": "2021-06-15T03:47:39.197347Z",
     "shell.execute_reply": "2021-06-15T03:47:39.196430Z",
     "shell.execute_reply.started": "2021-06-15T03:47:39.192601Z"
    }
   },
   "outputs": [],
   "source": [
    "from keras.callbacks import ModelCheckpoint\n",
    "\n",
    "model_path = '/kaggle/working/lstm_model.h5'\n",
    "checkpoint = ModelCheckpoint(model_path, monitor='val_binary_accuracy', verbose=1, save_best_only=True, mode='max')\n",
    "\n",
    "callbacks = [checkpoint]"
   ]
  },
  {
   "cell_type": "code",
   "execution_count": 140,
   "metadata": {
    "execution": {
     "iopub.execute_input": "2021-06-15T04:24:11.518481Z",
     "iopub.status.busy": "2021-06-15T04:24:11.518164Z",
     "iopub.status.idle": "2021-06-15T04:24:11.525572Z",
     "shell.execute_reply": "2021-06-15T04:24:11.524777Z",
     "shell.execute_reply.started": "2021-06-15T04:24:11.518454Z"
    }
   },
   "outputs": [
    {
     "data": {
      "text/plain": [
       "(array([0, 0, 0, ..., 0, 0, 1]), Int64Index([5, 1], dtype='int64'))"
      ]
     },
     "execution_count": 140,
     "metadata": {},
     "output_type": "execute_result"
    }
   ],
   "source": [
    "# sentiment_label = gps_df.rating.factorize()\n",
    "# gps_df.rating.values\n",
    "\n",
    "sentiment_label = gps_df.score.factorize()\n",
    "sentiment_label"
   ]
  },
  {
   "cell_type": "code",
   "execution_count": 101,
   "metadata": {
    "execution": {
     "iopub.execute_input": "2021-06-15T03:47:46.876223Z",
     "iopub.status.busy": "2021-06-15T03:47:46.875887Z",
     "iopub.status.idle": "2021-06-15T03:59:57.342665Z",
     "shell.execute_reply": "2021-06-15T03:59:57.342022Z",
     "shell.execute_reply.started": "2021-06-15T03:47:46.876194Z"
    }
   },
   "outputs": [
    {
     "name": "stdout",
     "output_type": "stream",
     "text": [
      "Epoch 1/10\n",
      "692/692 [==============================] - 79s 107ms/step - loss: 0.6386 - binary_accuracy: 0.7379 - val_loss: 0.4578 - val_binary_accuracy: 0.7370\n",
      "\n",
      "Epoch 00001: val_binary_accuracy improved from -inf to 0.73703, saving model to /kaggle/working/lstm_model.h5\n",
      "Epoch 2/10\n",
      "692/692 [==============================] - 73s 105ms/step - loss: 0.4783 - binary_accuracy: 0.7372 - val_loss: 0.3594 - val_binary_accuracy: 0.7370\n",
      "\n",
      "Epoch 00002: val_binary_accuracy did not improve from 0.73703\n",
      "Epoch 3/10\n",
      "692/692 [==============================] - 73s 105ms/step - loss: 0.3944 - binary_accuracy: 0.7369 - val_loss: 0.3091 - val_binary_accuracy: 0.7370\n",
      "\n",
      "Epoch 00003: val_binary_accuracy did not improve from 0.73703\n",
      "Epoch 4/10\n",
      "692/692 [==============================] - 73s 105ms/step - loss: 0.3551 - binary_accuracy: 0.7968 - val_loss: 0.3019 - val_binary_accuracy: 0.9275\n",
      "\n",
      "Epoch 00004: val_binary_accuracy improved from 0.73703 to 0.92755, saving model to /kaggle/working/lstm_model.h5\n",
      "Epoch 5/10\n",
      "692/692 [==============================] - 73s 105ms/step - loss: 0.3397 - binary_accuracy: 0.8899 - val_loss: 0.2979 - val_binary_accuracy: 0.9268\n",
      "\n",
      "Epoch 00005: val_binary_accuracy did not improve from 0.92755\n",
      "Epoch 6/10\n",
      "692/692 [==============================] - 73s 105ms/step - loss: 0.3345 - binary_accuracy: 0.8944 - val_loss: 0.2996 - val_binary_accuracy: 0.9156\n",
      "\n",
      "Epoch 00006: val_binary_accuracy did not improve from 0.92755\n",
      "Epoch 7/10\n",
      "692/692 [==============================] - 73s 105ms/step - loss: 0.3350 - binary_accuracy: 0.8927 - val_loss: 0.2969 - val_binary_accuracy: 0.9211\n",
      "\n",
      "Epoch 00007: val_binary_accuracy did not improve from 0.92755\n",
      "Epoch 8/10\n",
      "692/692 [==============================] - 72s 104ms/step - loss: 0.3219 - binary_accuracy: 0.8936 - val_loss: 0.2943 - val_binary_accuracy: 0.9252\n",
      "\n",
      "Epoch 00008: val_binary_accuracy did not improve from 0.92755\n",
      "Epoch 9/10\n",
      "692/692 [==============================] - 72s 104ms/step - loss: 0.3198 - binary_accuracy: 0.9005 - val_loss: 0.2998 - val_binary_accuracy: 0.9292\n",
      "\n",
      "Epoch 00009: val_binary_accuracy improved from 0.92755 to 0.92924, saving model to /kaggle/working/lstm_model.h5\n",
      "Epoch 10/10\n",
      "692/692 [==============================] - 71s 103ms/step - loss: 0.3145 - binary_accuracy: 0.9001 - val_loss: 0.2884 - val_binary_accuracy: 0.9237\n",
      "\n",
      "Epoch 00010: val_binary_accuracy did not improve from 0.92924\n"
     ]
    }
   ],
   "source": [
    "num_epochs = 10\n",
    "\n",
    "# use validation_split param to split data into training and validation datasets\n",
    "history = model.fit(\n",
    "    padded_data,\n",
    "    sentiment_label[0],\n",
    "    validation_split=0.8, \n",
    "    epochs=10,\n",
    "    callbacks=callbacks\n",
    ")"
   ]
  },
  {
   "cell_type": "code",
   "execution_count": 102,
   "metadata": {
    "execution": {
     "iopub.execute_input": "2021-06-15T04:05:00.837072Z",
     "iopub.status.busy": "2021-06-15T04:05:00.836688Z",
     "iopub.status.idle": "2021-06-15T04:05:01.187655Z",
     "shell.execute_reply": "2021-06-15T04:05:01.186889Z",
     "shell.execute_reply.started": "2021-06-15T04:05:00.837038Z"
    }
   },
   "outputs": [
    {
     "data": {
      "image/png": "[encoded data removed]",
      "text/plain": [
       "<Figure size 1440x720 with 2 Axes>"
      ]
     },
     "metadata": {},
     "output_type": "display_data"
    }
   ],
   "source": [
    "acc = history.history['binary_accuracy']\n",
    "val_acc = history.history['val_binary_accuracy']\n",
    "\n",
    "loss=history.history['loss']\n",
    "val_loss=history.history['val_loss']\n",
    "\n",
    "plt.figure(figsize=(20, 10))\n",
    "plt.subplot(1, 2, 1)\n",
    "plt.plot(acc, label='Training Binary Accuracy')\n",
    "plt.plot(val_acc, label='Validation Binary Accuracy')\n",
    "plt.legend(loc='lower right')\n",
    "plt.title('\\nTraining and Validation Binary Accuracy\\n')\n",
    "\n",
    "plt.subplot(1, 2, 2)\n",
    "plt.plot(loss, label='Training Loss')\n",
    "plt.plot(val_loss, label='Validation Loss')\n",
    "plt.legend(loc='upper right')\n",
    "plt.title('\\nTraining and Validation Loss\\n')\n",
    "plt.show()"
   ]
  },
  {
   "cell_type": "code",
   "execution_count": 106,
   "metadata": {
    "execution": {
     "iopub.execute_input": "2021-06-15T04:11:18.970149Z",
     "iopub.status.busy": "2021-06-15T04:11:18.969773Z",
     "iopub.status.idle": "2021-06-15T04:11:18.973461Z",
     "shell.execute_reply": "2021-06-15T04:11:18.972697Z",
     "shell.execute_reply.started": "2021-06-15T04:11:18.970102Z"
    }
   },
   "outputs": [],
   "source": [
    "# num_epochs = 10\n",
    "\n",
    "# history = model.fit(\n",
    "#     training_padded, \n",
    "#     training_labels, \n",
    "#     epochs=num_epochs, \n",
    "#     validation_data=(\n",
    "#         testing_padded, \n",
    "#         testing_labels\n",
    "#     ),\n",
    "#     callbacks=callbacks\n",
    "# )"
   ]
  },
  {
   "cell_type": "code",
   "execution_count": 107,
   "metadata": {
    "execution": {
     "iopub.execute_input": "2021-06-15T04:11:22.154325Z",
     "iopub.status.busy": "2021-06-15T04:11:22.153824Z",
     "iopub.status.idle": "2021-06-15T04:11:22.157363Z",
     "shell.execute_reply": "2021-06-15T04:11:22.156514Z",
     "shell.execute_reply.started": "2021-06-15T04:11:22.154294Z"
    }
   },
   "outputs": [],
   "source": [
    "# acc = history.history['binary_accuracy']\n",
    "# val_acc = history.history['val_binary_accuracy']\n",
    "\n",
    "# loss=history.history['loss']\n",
    "# val_loss=history.history['val_loss']\n",
    "\n",
    "# plt.figure(figsize=(20, 10))\n",
    "# plt.subplot(1, 2, 1)\n",
    "# plt.plot(acc, label='Training Binary Accuracy')\n",
    "# plt.plot(val_acc, label='Validation Binary Accuracy')\n",
    "# plt.legend(loc='lower right')\n",
    "# plt.title('\\nTraining and Validation Binary Accuracy\\n')\n",
    "\n",
    "# plt.subplot(1, 2, 2)\n",
    "# plt.plot(loss, label='Training Loss')\n",
    "# plt.plot(val_loss, label='Validation Loss')\n",
    "# plt.legend(loc='upper right')\n",
    "# plt.title('\\nTraining and Validation Loss\\n')\n",
    "# plt.show()"
   ]
  },
  {
   "cell_type": "code",
   "execution_count": 151,
   "metadata": {
    "execution": {
     "iopub.execute_input": "2021-06-15T04:28:18.101286Z",
     "iopub.status.busy": "2021-06-15T04:28:18.100722Z",
     "iopub.status.idle": "2021-06-15T04:28:18.145599Z",
     "shell.execute_reply": "2021-06-15T04:28:18.144752Z",
     "shell.execute_reply.started": "2021-06-15T04:28:18.101254Z"
    }
   },
   "outputs": [
    {
     "name": "stdout",
     "output_type": "stream",
     "text": [
      "Sentiment label:\n",
      "(array([0, 0, 0, ..., 0, 0, 1]), Int64Index([5, 1], dtype='int64'))\n",
      "\n",
      "Review:\n",
      "This app has a lot of bugs. I hate using it. It's useless\n",
      "\n",
      "Word list:\n",
      "['this', 'app', 'has', 'a', 'lot', 'of', 'bugs', 'i', 'hate', 'using', 'it', 'its', 'useless']\n",
      "\n",
      "Preprocessed:\n",
      "['app', 'lot', 'bug', 'hate', 'use', 'useless']\n",
      "\n",
      "Tokenized review:\n",
      "[[2], [104], [273], [267], [6], [154]]\n",
      "\n",
      "Raw probability:\n",
      "[[0.5755922]]\n",
      "\n",
      "Predicted sentiment:\n",
      "negative\n"
     ]
    }
   ],
   "source": [
    "# sample_text = \"This app is amazing! I loved using it\"\n",
    "sample_text = \"This app has a lot of bugs. I hate using it. It's useless\"\n",
    "\n",
    "# preprocess input\n",
    "word_lst = sample_text.encode('ascii', 'ignore').decode('ascii').translate(str.maketrans('', '', string.punctuation)).lower().split()\n",
    "clean_word_lst = [lemmatizer.lemmatize(word, get_wordnet_pos(word)) for word in word_lst if not word in stop_words]\n",
    "\n",
    "# tokenize and pad\n",
    "sequences = tokenizer.texts_to_sequences(clean_word_lst)\n",
    "padded_data = pad_sequences(sequences, padding='post')\n",
    "\n",
    "# If the probability is >= 0.5, it is negative else it is positive (based on sentiment_label)\n",
    "probability = model.predict(np.array([padded_data]))\n",
    "prediction = 'negative' if probability >= 0.5 else 'positive'\n",
    "\n",
    "print(f'Sentiment label:\\n{sentiment_label}')\n",
    "print(f'\\nReview:\\n{sample_text}')\n",
    "print(f'\\nWord list:\\n{word_lst}')\n",
    "print(f'\\nPreprocessed:\\n{clean_word_lst}')\n",
    "print(f'\\nTokenized review:\\n{sequences}')\n",
    "print(f'\\nRaw probability:\\n{probability}')\n",
    "print(f'\\nPredicted sentiment:\\n{prediction}')"
   ]
  }
 ],
 "metadata": {
  "kernelspec": {
   "display_name": "Python 3",
   "language": "python",
   "name": "python3"
  },
  "language_info": {
   "codemirror_mode": {
    "name": "ipython",
    "version": 3
   },
   "file_extension": ".py",
   "mimetype": "text/x-python",
   "name": "python",
   "nbconvert_exporter": "python",
   "pygments_lexer": "ipython3",
   "version": "3.7.10"
  }
 },
 "nbformat": 4,
 "nbformat_minor": 4
}
