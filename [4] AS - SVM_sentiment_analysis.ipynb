{
 "cells": [
  {
   "cell_type": "code",
   "execution_count": 2,
   "id": "vanilla-speaker",
   "metadata": {},
   "outputs": [
    {
     "name": "stderr",
     "output_type": "stream",
     "text": [
      "C:\\Users\\matthewkent.regalado\\Anaconda3\\envs\\project-env\\lib\\site-packages\\numpy\\core\\__init__.py:29: UserWarning: loaded more than 1 DLL from .libs:\n",
      "C:\\Users\\matthewkent.regalado\\Anaconda3\\envs\\project-env\\lib\\site-packages\\numpy\\.libs\\libopenblas.JPIJNSWNNAN3CE6LLI5FWSPHUT2VXMTH.gfortran-win_amd64.dll\n",
      "C:\\Users\\matthewkent.regalado\\Anaconda3\\envs\\project-env\\lib\\site-packages\\numpy\\.libs\\libopenblas.TXA6YQSD3GCQQC22GEQ54J2UDCXDXHWN.gfortran-win_amd64.dll\n",
      "  stacklevel=1)\n"
     ]
    }
   ],
   "source": [
    "import pymysql\n",
    "import dataset\n",
    "import MySQLdb\n",
    "import pandas as pd\n",
    "import seaborn as sns\n",
    "import matplotlib.pyplot as plt\n",
    "\n",
    "from sklearn.svm import SVC\n",
    "from sklearn.feature_extraction.text import TfidfVectorizer\n",
    "from sklearn.model_selection import train_test_split, cross_val_score\n",
    "import warnings\n",
    "warnings.filterwarnings(\"ignore\")\n",
    "\n",
    "%matplotlib inline"
   ]
  },
  {
   "cell_type": "markdown",
   "id": "romance-beast",
   "metadata": {},
   "source": [
    "## Import scraped App Store Reviews\n",
    "---"
   ]
  },
  {
   "cell_type": "code",
   "execution_count": 3,
   "id": "historic-concept",
   "metadata": {},
   "outputs": [
    {
     "name": "stdout",
     "output_type": "stream",
     "text": [
      "<class 'pandas.core.frame.DataFrame'>\n",
      "RangeIndex: 1669 entries, 0 to 1668\n",
      "Data columns (total 7 columns):\n",
      " #   Column             Non-Null Count  Dtype \n",
      "---  ------             --------------  ----- \n",
      " 0   date               1669 non-null   object\n",
      " 1   review             1669 non-null   object\n",
      " 2   title              1669 non-null   object\n",
      " 3   userName           1669 non-null   object\n",
      " 4   isEdited           1669 non-null   bool  \n",
      " 5   rating             1669 non-null   int64 \n",
      " 6   developerResponse  1 non-null      object\n",
      "dtypes: bool(1), int64(1), object(5)\n",
      "memory usage: 80.0+ KB\n"
     ]
    }
   ],
   "source": [
    "as_df = pd.read_csv('data/app_store_reviews.csv')\n",
    "as_df.info()"
   ]
  },
  {
   "cell_type": "markdown",
   "id": "beautiful-failing",
   "metadata": {},
   "source": [
    "## Preprocess data\n",
    "---"
   ]
  },
  {
   "cell_type": "markdown",
   "id": "cathedral-bhutan",
   "metadata": {},
   "source": [
    "### Remove punctuation from all reviews"
   ]
  },
  {
   "cell_type": "code",
   "execution_count": 234,
   "id": "alive-california",
   "metadata": {},
   "outputs": [
    {
     "data": {
      "text/plain": [
       "0       This app gets so many negative reviews but it’...\n",
       "1       I've been using gcash for 2 years now, and yes...\n",
       "2       Okay GCash dati 3-4 years ago. Ngayon puro err...\n",
       "3       Those others who doesn’t like gcash don’t expe...\n",
       "4       This is the worst experience I had with gcash!...\n",
       "                              ...                        \n",
       "1664    Everytime I enroll bpi for the cash-in, it pro...\n",
       "1665    Anong klaseng app b nmn to wla nanaman transac...\n",
       "1666    My app was recently updated and the transactio...\n",
       "1667            Ita not working properly to Iphone xs max\n",
       "1668    Please put STUDENT ID to be fully verified . S...\n",
       "Name: review, Length: 1669, dtype: object"
      ]
     },
     "execution_count": 234,
     "metadata": {},
     "output_type": "execute_result"
    }
   ],
   "source": [
    "as_df['review']"
   ]
  },
  {
   "cell_type": "code",
   "execution_count": 238,
   "id": "liable-scientist",
   "metadata": {},
   "outputs": [],
   "source": [
    "import string\n",
    "\n",
    "# init empty lists\n",
    "clean_lst = []\n",
    "rating_lst = []\n",
    "\n",
    "for review, rating in zip(as_df['review'], as_df['rating']):\n",
    "    # convert each review to a string to avoid AttributeErrors while using the translate method\n",
    "    str_review = str(review)\n",
    "    clean_review = str_review.translate(str.maketrans('', '', string.punctuation))\n",
    "    clean_lst.append(clean_review)\n",
    "    rating_lst.append(rating)"
   ]
  },
  {
   "cell_type": "markdown",
   "id": "narrow-norman",
   "metadata": {},
   "source": [
    "### Remove emojis/emoticons, flags (iOS), pictographs, and transportation and map symbols from all reviews"
   ]
  },
  {
   "cell_type": "code",
   "execution_count": 5,
   "id": "returning-slide",
   "metadata": {},
   "outputs": [],
   "source": [
    "import re\n",
    "\n",
    "def cleaner(text):\n",
    "    regrex_pattern = re.compile(\n",
    "        pattern = \"[\"\n",
    "        u\"\\U0001F600-\\U0001F64F\"  # emoticons\n",
    "        u\"\\U0001F300-\\U0001F5FF\"  # symbols & pictographs\n",
    "        u\"\\U0001F680-\\U0001F6FF\"  # transport & map symbols\n",
    "        u\"\\U0001F1E0-\\U0001F1FF\"  # flags (iOS)\n",
    "                           \"]+\", flags = re.UNICODE)\n",
    "    \n",
    "    return regrex_pattern.sub(r'',text)\n",
    "\n",
    "# init empty list\n",
    "final_lst = []\n",
    "\n",
    "for review in clean_lst:\n",
    "    final_review = cleaner(review)\n",
    "    # use the strip method to remove leading and trailing characters before appending the cleaned review into the list\n",
    "    final_lst.append(final_review.strip())"
   ]
  },
  {
   "cell_type": "code",
   "execution_count": 215,
   "id": "prostate-princeton",
   "metadata": {},
   "outputs": [],
   "source": [
    "import itertools\n",
    "import collections\n",
    "\n",
    "# set all strings to lowercase and split every line to strings\n",
    "review_lst = [line.lower().split() for line in final_lst]"
   ]
  },
  {
   "cell_type": "markdown",
   "id": "other-bacteria",
   "metadata": {},
   "source": [
    "### Remove stopwords using the nltk and advertools libraries"
   ]
  },
  {
   "cell_type": "code",
   "execution_count": 110,
   "id": "saved-correlation",
   "metadata": {},
   "outputs": [
    {
     "name": "stderr",
     "output_type": "stream",
     "text": [
      "[nltk_data] Downloading package stopwords to\n",
      "[nltk_data]     C:\\Users\\matthewkent.regalado\\AppData\\Roaming\\nltk_dat\n",
      "[nltk_data]     a...\n",
      "[nltk_data]   Package stopwords is already up-to-date!\n"
     ]
    }
   ],
   "source": [
    "# https://www.nltk.org/\n",
    "# import the Natural Language Toolkit (nltk) library to further process the parsed word data\n",
    "import nltk\n",
    "import advertools as adv\n",
    "from nltk.corpus import stopwords\n",
    "\n",
    "nltk.download('stopwords')\n",
    "stop_words = set(stopwords.words('english'))\n",
    "stop_words.update(adv.stopwords['tagalog'])\n",
    "\n",
    "# Remove stop words from each line\n",
    "clean_review_lst = [[word for word in words if not word in stop_words] for words in review_lst]\n",
    "\n",
    "new_words = [' '.join(word) for word in clean_review_lst]\n",
    "as_df['clean_review'] = new_words"
   ]
  },
  {
   "cell_type": "markdown",
   "id": "apart-halloween",
   "metadata": {},
   "source": [
    "### Verify results"
   ]
  },
  {
   "cell_type": "code",
   "execution_count": 111,
   "id": "pleased-vault",
   "metadata": {},
   "outputs": [
    {
     "name": "stdout",
     "output_type": "stream",
     "text": [
      "\n",
      "Original (length: 170):\n",
      "['My', 'old', 'account', 'number', 'was', 'blocked', 'and', 'can’t', 'receive', 'any', 'messages', 'anymore.', 'So,', 'I', 'immediately', 'called', 'the', 'customer', 'service', 'on', 'June', '30,', '2020,', 'about', 'the', 'issue', 'and', 'asked', 'me', 'to', 'create', 'a', 'new', 'Gcash', 'account', 'because', 'they', 'will', 'send', 'there', 'my', 'balance', 'on', 'my', 'previous', 'account.', 'They', 'asked', 'for', 'all', 'the', 'details', 'they', 'needed', 'through', 'email', 'and', 'sent', 'it', 'to', 'them', 'immediately.', 'After', '2', 'days', '(July', '2)', 'I', 'received', 'an', 'email', 'from', 'them', 'that', 'the', 'amount', 'was', 'already', 'sent', 'on', 'my', 'new', 'account', 'they', 'sent', 'a', 'reference', 'number', 'with', 'date,', 'I', 'already', 'told', 'them', 'that', 'I', 'didn’t', 'receive', 'either', 'the', 'money', 'or', 'the', 'reference', 'number.', 'I', 'immediately', 'called', 'the', 'customer', 'service', 'and', 'keep', 'calling', 'them,', 'up', 'until', 'now', '(July', '6)', 'the', 'same', 'answer', 'I', 'am', 'getting', 'from', 'them.', 'What', 'the', 'Heck,', 'Gcash!!', 'All', 'your', 'agents', \"don't\", 'know', 'what', 'to', 'do', 'with', 'this', 'issue!!!!', '😡😡', 'And', 'one', 'of', 'their', 'agents', 'has', 'no', 'manner', 'with', 'the', 'customer.', 'Are', 'they', 'really', 'a', 'customer', 'service', 'or', 'just', 'a', 'representative', 'with', 'no', 'etiquette', 'and', 'manner?']\n",
      "\n",
      "Preprocessed (length: 80):\n",
      "['old', 'account', 'number', 'blocked', 'can’t', 'receive', 'messages', 'anymore', 'immediately', 'called', 'customer', 'service', 'june', '30', '2020', 'issue', 'asked', 'create', 'new', 'gcash', 'account', 'send', 'balance', 'previous', 'account', 'asked', 'details', 'needed', 'email', 'sent', 'immediately', '2', 'days', 'july', '2', 'received', 'email', 'amount', 'already', 'sent', 'new', 'account', 'sent', 'reference', 'number', 'date', 'already', 'told', 'didn’t', 'receive', 'either', 'money', 'reference', 'number', 'immediately', 'called', 'customer', 'service', 'keep', 'calling', 'july', '6', 'answer', 'getting', 'heck', 'gcash', 'agents', 'dont', 'know', 'issue', 'one', 'agents', 'manner', 'customer', 'really', 'customer', 'service', 'representative', 'etiquette', 'manner']\n",
      "\n"
     ]
    }
   ],
   "source": [
    "# compare original output from 'cleaned' output \n",
    "print(f'\\nOriginal (length: {len(as_df.iloc[6, 1].split())}):\\n{as_df.iloc[6, 1].split()}')\n",
    "print(f'\\nPreprocessed (length: {len(clean_review_lst[6])}):\\n{clean_review_lst[6]}\\n')"
   ]
  },
  {
   "cell_type": "code",
   "execution_count": 228,
   "id": "flush-debut",
   "metadata": {},
   "outputs": [],
   "source": [
    "# use the chain function from Python's built-in itertools library \n",
    "# to convert the series of iterables (list of lists) to a single iterable (list)\n",
    "words = list(itertools.chain(*clean_review_lst))\n",
    "\n",
    "# use the Counter method from Python's built-in collections library to \n",
    "# store each word as a dictionary key, and their occurrences as their corresponding value\n",
    "word_freqs = collections.Counter(words)\n",
    "\n",
    "word_lst = []\n",
    "count_lst = []\n",
    "\n",
    "# use the most_common method to return the most common words based on their counts\n",
    "# from the most common to the least\n",
    "most_common = word_freqs.most_common(10)\n",
    "for word, count in most_common:\n",
    "    word_lst.append(word)\n",
    "    count_lst.append(count)\n",
    "    \n",
    "freqs_df = pd.DataFrame()\n",
    "freqs_df['word'] = word_lst\n",
    "freqs_df['count'] = count_lst"
   ]
  },
  {
   "cell_type": "markdown",
   "id": "swiss-nelson",
   "metadata": {},
   "source": [
    "## 2. Build a classifier using an SVM to identify whether a review is a 1-star or 5-star review\n",
    "---"
   ]
  },
  {
   "cell_type": "code",
   "execution_count": 112,
   "id": "amazing-strategy",
   "metadata": {},
   "outputs": [
    {
     "name": "stdout",
     "output_type": "stream",
     "text": [
      "<class 'pandas.core.frame.DataFrame'>\n",
      "RangeIndex: 1669 entries, 0 to 1668\n",
      "Data columns (total 8 columns):\n",
      " #   Column             Non-Null Count  Dtype \n",
      "---  ------             --------------  ----- \n",
      " 0   date               1669 non-null   object\n",
      " 1   review             1669 non-null   object\n",
      " 2   title              1669 non-null   object\n",
      " 3   userName           1669 non-null   object\n",
      " 4   isEdited           1669 non-null   bool  \n",
      " 5   rating             1669 non-null   int64 \n",
      " 6   developerResponse  1 non-null      object\n",
      " 7   clean_review       1669 non-null   object\n",
      "dtypes: bool(1), int64(1), object(6)\n",
      "memory usage: 93.0+ KB\n"
     ]
    }
   ],
   "source": [
    "as_df.info()"
   ]
  },
  {
   "cell_type": "code",
   "execution_count": 113,
   "id": "eastern-petroleum",
   "metadata": {},
   "outputs": [
    {
     "name": "stdout",
     "output_type": "stream",
     "text": [
      "<class 'pandas.core.frame.DataFrame'>\n",
      "RangeIndex: 1669 entries, 0 to 1668\n",
      "Data columns (total 3 columns):\n",
      " #   Column        Non-Null Count  Dtype \n",
      "---  ------        --------------  ----- \n",
      " 0   date          1669 non-null   object\n",
      " 1   rating        1669 non-null   int64 \n",
      " 2   clean_review  1669 non-null   object\n",
      "dtypes: int64(1), object(2)\n",
      "memory usage: 39.2+ KB\n"
     ]
    }
   ],
   "source": [
    "# query and display 5 randomly selected samples from the reviews DF\n",
    "reviews_df = as_df.drop(['title', 'userName', 'isEdited', 'developerResponse', 'review'], axis=1)\n",
    "reviews_df.info()"
   ]
  },
  {
   "cell_type": "code",
   "execution_count": 114,
   "id": "convenient-australian",
   "metadata": {},
   "outputs": [
    {
     "data": {
      "text/html": [
       "<div>\n",
       "<style scoped>\n",
       "    .dataframe tbody tr th:only-of-type {\n",
       "        vertical-align: middle;\n",
       "    }\n",
       "\n",
       "    .dataframe tbody tr th {\n",
       "        vertical-align: top;\n",
       "    }\n",
       "\n",
       "    .dataframe thead th {\n",
       "        text-align: right;\n",
       "    }\n",
       "</style>\n",
       "<table border=\"1\" class=\"dataframe\">\n",
       "  <thead>\n",
       "    <tr style=\"text-align: right;\">\n",
       "      <th></th>\n",
       "      <th>date</th>\n",
       "      <th>rating</th>\n",
       "      <th>clean_review</th>\n",
       "    </tr>\n",
       "  </thead>\n",
       "  <tbody>\n",
       "    <tr>\n",
       "      <th>0</th>\n",
       "      <td>2020-05-16 07:33:32</td>\n",
       "      <td>5</td>\n",
       "      <td>app gets many negative reviews it’s actually b...</td>\n",
       "    </tr>\n",
       "    <tr>\n",
       "      <th>1</th>\n",
       "      <td>2020-06-07 04:57:17</td>\n",
       "      <td>5</td>\n",
       "      <td>ive using gcash 2 years yes perfect helped lot...</td>\n",
       "    </tr>\n",
       "    <tr>\n",
       "      <th>2</th>\n",
       "      <td>2020-04-26 04:57:47</td>\n",
       "      <td>1</td>\n",
       "      <td>okay gcash dati 34 years ago puro errors fully...</td>\n",
       "    </tr>\n",
       "    <tr>\n",
       "      <th>3</th>\n",
       "      <td>2021-01-12 09:46:26</td>\n",
       "      <td>5</td>\n",
       "      <td>others doesn’t like gcash don’t expect much gc...</td>\n",
       "    </tr>\n",
       "    <tr>\n",
       "      <th>4</th>\n",
       "      <td>2020-02-10 15:45:41</td>\n",
       "      <td>1</td>\n",
       "      <td>worst experience gcash tried cash mypaypal acc...</td>\n",
       "    </tr>\n",
       "    <tr>\n",
       "      <th>...</th>\n",
       "      <td>...</td>\n",
       "      <td>...</td>\n",
       "      <td>...</td>\n",
       "    </tr>\n",
       "    <tr>\n",
       "      <th>1664</th>\n",
       "      <td>2020-01-05 13:52:04</td>\n",
       "      <td>1</td>\n",
       "      <td>everytime enroll bpi cashin prompts username p...</td>\n",
       "    </tr>\n",
       "    <tr>\n",
       "      <th>1665</th>\n",
       "      <td>2021-06-03 03:10:39</td>\n",
       "      <td>1</td>\n",
       "      <td>anong klaseng app b nmn wla nanaman transactio...</td>\n",
       "    </tr>\n",
       "    <tr>\n",
       "      <th>1666</th>\n",
       "      <td>2021-06-03 01:37:56</td>\n",
       "      <td>1</td>\n",
       "      <td>app recently updated transaction history tab a...</td>\n",
       "    </tr>\n",
       "    <tr>\n",
       "      <th>1667</th>\n",
       "      <td>2021-03-16 04:41:58</td>\n",
       "      <td>1</td>\n",
       "      <td>ita working properly iphone xs max</td>\n",
       "    </tr>\n",
       "    <tr>\n",
       "      <th>1668</th>\n",
       "      <td>2021-01-30 02:36:11</td>\n",
       "      <td>1</td>\n",
       "      <td>please put student id fully verified students ...</td>\n",
       "    </tr>\n",
       "  </tbody>\n",
       "</table>\n",
       "<p>1669 rows × 3 columns</p>\n",
       "</div>"
      ],
      "text/plain": [
       "                     date  rating  \\\n",
       "0     2020-05-16 07:33:32       5   \n",
       "1     2020-06-07 04:57:17       5   \n",
       "2     2020-04-26 04:57:47       1   \n",
       "3     2021-01-12 09:46:26       5   \n",
       "4     2020-02-10 15:45:41       1   \n",
       "...                   ...     ...   \n",
       "1664  2020-01-05 13:52:04       1   \n",
       "1665  2021-06-03 03:10:39       1   \n",
       "1666  2021-06-03 01:37:56       1   \n",
       "1667  2021-03-16 04:41:58       1   \n",
       "1668  2021-01-30 02:36:11       1   \n",
       "\n",
       "                                           clean_review  \n",
       "0     app gets many negative reviews it’s actually b...  \n",
       "1     ive using gcash 2 years yes perfect helped lot...  \n",
       "2     okay gcash dati 34 years ago puro errors fully...  \n",
       "3     others doesn’t like gcash don’t expect much gc...  \n",
       "4     worst experience gcash tried cash mypaypal acc...  \n",
       "...                                                 ...  \n",
       "1664  everytime enroll bpi cashin prompts username p...  \n",
       "1665  anong klaseng app b nmn wla nanaman transactio...  \n",
       "1666  app recently updated transaction history tab a...  \n",
       "1667                 ita working properly iphone xs max  \n",
       "1668  please put student id fully verified students ...  \n",
       "\n",
       "[1669 rows x 3 columns]"
      ]
     },
     "execution_count": 114,
     "metadata": {},
     "output_type": "execute_result"
    }
   ],
   "source": [
    "reviews_df"
   ]
  },
  {
   "cell_type": "code",
   "execution_count": 115,
   "id": "musical-trace",
   "metadata": {},
   "outputs": [
    {
     "name": "stdout",
     "output_type": "stream",
     "text": [
      "<class 'pandas.core.frame.DataFrame'>\n",
      "RangeIndex: 1669 entries, 0 to 1668\n",
      "Data columns (total 3 columns):\n",
      " #   Column        Non-Null Count  Dtype         \n",
      "---  ------        --------------  -----         \n",
      " 0   rating        1669 non-null   int64         \n",
      " 1   clean_review  1669 non-null   object        \n",
      " 2   datetime      1669 non-null   datetime64[ns]\n",
      "dtypes: datetime64[ns](1), int64(1), object(1)\n",
      "memory usage: 39.2+ KB\n"
     ]
    }
   ],
   "source": [
    "reviews_df['datetime'] = pd.to_datetime(reviews_df['date'])\n",
    "reviews_df = reviews_df.drop(['date'], axis=1)\n",
    "reviews_df.info()"
   ]
  },
  {
   "cell_type": "code",
   "execution_count": 116,
   "id": "cutting-proceeding",
   "metadata": {},
   "outputs": [
    {
     "data": {
      "text/html": [
       "<div>\n",
       "<style scoped>\n",
       "    .dataframe tbody tr th:only-of-type {\n",
       "        vertical-align: middle;\n",
       "    }\n",
       "\n",
       "    .dataframe tbody tr th {\n",
       "        vertical-align: top;\n",
       "    }\n",
       "\n",
       "    .dataframe thead th {\n",
       "        text-align: right;\n",
       "    }\n",
       "</style>\n",
       "<table border=\"1\" class=\"dataframe\">\n",
       "  <thead>\n",
       "    <tr style=\"text-align: right;\">\n",
       "      <th></th>\n",
       "      <th>rating</th>\n",
       "      <th>clean_review</th>\n",
       "      <th>datetime</th>\n",
       "    </tr>\n",
       "  </thead>\n",
       "  <tbody>\n",
       "    <tr>\n",
       "      <th>0</th>\n",
       "      <td>5</td>\n",
       "      <td>app gets many negative reviews it’s actually b...</td>\n",
       "      <td>2020-05-16 07:33:32</td>\n",
       "    </tr>\n",
       "    <tr>\n",
       "      <th>1</th>\n",
       "      <td>5</td>\n",
       "      <td>ive using gcash 2 years yes perfect helped lot...</td>\n",
       "      <td>2020-06-07 04:57:17</td>\n",
       "    </tr>\n",
       "    <tr>\n",
       "      <th>2</th>\n",
       "      <td>1</td>\n",
       "      <td>okay gcash dati 34 years ago puro errors fully...</td>\n",
       "      <td>2020-04-26 04:57:47</td>\n",
       "    </tr>\n",
       "    <tr>\n",
       "      <th>3</th>\n",
       "      <td>5</td>\n",
       "      <td>others doesn’t like gcash don’t expect much gc...</td>\n",
       "      <td>2021-01-12 09:46:26</td>\n",
       "    </tr>\n",
       "    <tr>\n",
       "      <th>4</th>\n",
       "      <td>1</td>\n",
       "      <td>worst experience gcash tried cash mypaypal acc...</td>\n",
       "      <td>2020-02-10 15:45:41</td>\n",
       "    </tr>\n",
       "    <tr>\n",
       "      <th>...</th>\n",
       "      <td>...</td>\n",
       "      <td>...</td>\n",
       "      <td>...</td>\n",
       "    </tr>\n",
       "    <tr>\n",
       "      <th>1664</th>\n",
       "      <td>1</td>\n",
       "      <td>everytime enroll bpi cashin prompts username p...</td>\n",
       "      <td>2020-01-05 13:52:04</td>\n",
       "    </tr>\n",
       "    <tr>\n",
       "      <th>1665</th>\n",
       "      <td>1</td>\n",
       "      <td>anong klaseng app b nmn wla nanaman transactio...</td>\n",
       "      <td>2021-06-03 03:10:39</td>\n",
       "    </tr>\n",
       "    <tr>\n",
       "      <th>1666</th>\n",
       "      <td>1</td>\n",
       "      <td>app recently updated transaction history tab a...</td>\n",
       "      <td>2021-06-03 01:37:56</td>\n",
       "    </tr>\n",
       "    <tr>\n",
       "      <th>1667</th>\n",
       "      <td>1</td>\n",
       "      <td>ita working properly iphone xs max</td>\n",
       "      <td>2021-03-16 04:41:58</td>\n",
       "    </tr>\n",
       "    <tr>\n",
       "      <th>1668</th>\n",
       "      <td>1</td>\n",
       "      <td>please put student id fully verified students ...</td>\n",
       "      <td>2021-01-30 02:36:11</td>\n",
       "    </tr>\n",
       "  </tbody>\n",
       "</table>\n",
       "<p>1669 rows × 3 columns</p>\n",
       "</div>"
      ],
      "text/plain": [
       "      rating                                       clean_review  \\\n",
       "0          5  app gets many negative reviews it’s actually b...   \n",
       "1          5  ive using gcash 2 years yes perfect helped lot...   \n",
       "2          1  okay gcash dati 34 years ago puro errors fully...   \n",
       "3          5  others doesn’t like gcash don’t expect much gc...   \n",
       "4          1  worst experience gcash tried cash mypaypal acc...   \n",
       "...      ...                                                ...   \n",
       "1664       1  everytime enroll bpi cashin prompts username p...   \n",
       "1665       1  anong klaseng app b nmn wla nanaman transactio...   \n",
       "1666       1  app recently updated transaction history tab a...   \n",
       "1667       1                 ita working properly iphone xs max   \n",
       "1668       1  please put student id fully verified students ...   \n",
       "\n",
       "                datetime  \n",
       "0    2020-05-16 07:33:32  \n",
       "1    2020-06-07 04:57:17  \n",
       "2    2020-04-26 04:57:47  \n",
       "3    2021-01-12 09:46:26  \n",
       "4    2020-02-10 15:45:41  \n",
       "...                  ...  \n",
       "1664 2020-01-05 13:52:04  \n",
       "1665 2021-06-03 03:10:39  \n",
       "1666 2021-06-03 01:37:56  \n",
       "1667 2021-03-16 04:41:58  \n",
       "1668 2021-01-30 02:36:11  \n",
       "\n",
       "[1669 rows x 3 columns]"
      ]
     },
     "execution_count": 116,
     "metadata": {},
     "output_type": "execute_result"
    }
   ],
   "source": [
    "reviews_df"
   ]
  },
  {
   "cell_type": "markdown",
   "id": "authentic-representation",
   "metadata": {},
   "source": [
    "## Data visualization\n",
    "---"
   ]
  },
  {
   "cell_type": "code",
   "execution_count": 117,
   "id": "weekly-sunrise",
   "metadata": {},
   "outputs": [
    {
     "data": {
      "text/plain": [
       "Text(0.5, 1.0, \"\\nRecommendations vs 'Constructive' Criticism\\n\")"
      ]
     },
     "execution_count": 117,
     "metadata": {},
     "output_type": "execute_result"
    },
    {
     "data": {
      "image/png": "[encoded data removed]",
      "text/plain": [
       "<Figure size 576x576 with 1 Axes>"
      ]
     },
     "metadata": {},
     "output_type": "display_data"
    }
   ],
   "source": [
    "plt.style.use('fivethirtyeight')\n",
    "plt.figure(figsize=(8,8))\n",
    "\n",
    "df_2 = reviews_df.groupby('rating').count()\n",
    "df_2.reset_index(inplace=True)\n",
    "ax = sns.barplot(x='rating', y='clean_review', data=df_2, palette='Paired');\n",
    "ax.set_title('\\nRecommendations vs \\'Constructive\\' Criticism\\n', fontsize=25)\n",
    "\n",
    "# values = reviews_df['rating'].value_counts()\n",
    "\n",
    "# for i, p in enumerate(ax.patches):\n",
    "#     height = p.get_height()\n",
    "#     ax.text(p.get_x() + p.get_width() / 2, height, values[i], ha=\"center\")"
   ]
  },
  {
   "cell_type": "code",
   "execution_count": 118,
   "id": "expanded-iraqi",
   "metadata": {},
   "outputs": [
    {
     "data": {
      "text/plain": [
       "<seaborn.axisgrid.FacetGrid at 0x1f8e5accb08>"
      ]
     },
     "execution_count": 118,
     "metadata": {},
     "output_type": "execute_result"
    },
    {
     "data": {
      "image/png": "[encoded data removed]",
      "text/plain": [
       "<Figure size 1614.48x576 with 1 Axes>"
      ]
     },
     "metadata": {},
     "output_type": "display_data"
    }
   ],
   "source": [
    "plt.style.use('fivethirtyeight')\n",
    "\n",
    "s = sns.displot(data=reviews_df, x='datetime', hue='rating', height=8, aspect=2.7, palette='Paired', kde=True)\n",
    "s.set(ylabel='Review count')"
   ]
  },
  {
   "cell_type": "markdown",
   "id": "isolated-spouse",
   "metadata": {},
   "source": [
    "## Model training\n",
    "---"
   ]
  },
  {
   "cell_type": "code",
   "execution_count": 166,
   "id": "searching-marine",
   "metadata": {},
   "outputs": [
    {
     "name": "stdout",
     "output_type": "stream",
     "text": [
      "\n",
      "rows, features/words:\n"
     ]
    },
    {
     "data": {
      "text/plain": [
       "(1669, 4775)"
      ]
     },
     "execution_count": 166,
     "metadata": {},
     "output_type": "execute_result"
    }
   ],
   "source": [
    "# init tf-idf vectorizer\n",
    "vectorizer = TfidfVectorizer()\n",
    "\n",
    "# vectorize the comments data\n",
    "vectorized_X = vectorizer.fit_transform(reviews_df['clean_review'])\n",
    "\n",
    "print('\\nrows, features/words:')\n",
    "vectorized_X.shape"
   ]
  },
  {
   "cell_type": "code",
   "execution_count": 174,
   "id": "vocational-dominant",
   "metadata": {},
   "outputs": [
    {
     "name": "stdout",
     "output_type": "stream",
     "text": [
      "(333, 4775) (1336, 4775)\n"
     ]
    }
   ],
   "source": [
    "# split the vectorized data\n",
    "train_X, test_X, train_Y, test_Y = train_test_split(vectorized_X, reviews_df['rating'], train_size=0.2) \n",
    "\n",
    "print(train_X.shape, test_X.shape)"
   ]
  },
  {
   "cell_type": "code",
   "execution_count": 211,
   "id": "political-master",
   "metadata": {},
   "outputs": [
    {
     "data": {
      "text/plain": [
       "SVC(kernel='linear')"
      ]
     },
     "execution_count": 211,
     "metadata": {},
     "output_type": "execute_result"
    }
   ],
   "source": [
    "# used LinearSVC instead since SVC takes a while to process\n",
    "from sklearn.svm import LinearSVC\n",
    "\n",
    "# init Scalable Linear SVM classifier\n",
    "classifier = SVC(kernel='linear')\n",
    "# classifier = LinearSVC()\n",
    "\n",
    "# train Linear SVM classifier\n",
    "classifier.fit(train_X.toarray(), train_Y)"
   ]
  },
  {
   "cell_type": "code",
   "execution_count": 212,
   "id": "naked-ethernet",
   "metadata": {},
   "outputs": [
    {
     "name": "stdout",
     "output_type": "stream",
     "text": [
      "\n",
      "Accuracy: 91.17 percent (+/- 0.01)\n"
     ]
    },
    {
     "data": {
      "text/plain": [
       "array([0.89552239, 0.91044776, 0.91791045, 0.91791045, 0.90298507,\n",
       "       0.92537313, 0.91729323, 0.90977444, 0.92481203, 0.89473684])"
      ]
     },
     "execution_count": 212,
     "metadata": {},
     "output_type": "execute_result"
    }
   ],
   "source": [
    "# use cross validation to see how well a Linear SVM classifier would work on our data\n",
    "scores = cross_val_score(classifier, test_X, test_Y, cv=10)\n",
    "acc = scores.mean()\n",
    "print(\"\\nAccuracy: %0.2f percent (+/- %0.2f)\" % (acc*100, scores.std()))\n",
    "\n",
    "scores"
   ]
  },
  {
   "cell_type": "markdown",
   "id": "engaged-effectiveness",
   "metadata": {},
   "source": [
    "## Visualize the SVM's Support Vectors (WIP)\n",
    "---"
   ]
  },
  {
   "cell_type": "markdown",
   "id": "related-index",
   "metadata": {},
   "source": [
    "## Identify the top words from the clean_review column\n",
    "---"
   ]
  },
  {
   "cell_type": "code",
   "execution_count": 25,
   "id": "breathing-offering",
   "metadata": {},
   "outputs": [
    {
     "data": {
      "text/plain": [
       "[('i', 2075),\n",
       " ('to', 1774),\n",
       " ('the', 1616),\n",
       " ('my', 1169),\n",
       " ('and', 1156),\n",
       " ('it', 959),\n",
       " ('a', 829),\n",
       " ('app', 811),\n",
       " ('gcash', 775),\n",
       " ('is', 769)]"
      ]
     },
     "execution_count": 25,
     "metadata": {},
     "output_type": "execute_result"
    }
   ],
   "source": [
    "import itertools\n",
    "import collections\n",
    "\n",
    "# extract and convert all of the pros column's rows to a list of lists\n",
    "linesInPros = list(reviews_df['clean_review'].values)\n",
    "\n",
    "# set all strings to lowercase and split every line to strings\n",
    "prosListOfLists = [line.lower().split() for line in linesInPros]\n",
    "\n",
    "# use the chain function from Python's built-in itertools library \n",
    "# to convert the series of iterables (list of lists) to a single iterable (list)\n",
    "wordsInPros = list(itertools.chain(*prosListOfLists))\n",
    "\n",
    "# use the Counter method from Python's built-in collections library to \n",
    "# store each word as a dictionary key, and their occurrences as their corresponding value\n",
    "prosWordFreqs = collections.Counter(wordsInPros)\n",
    "\n",
    "# use the most_common method to return the most common words based on their counts\n",
    "# from the most common to the least\n",
    "prosWordFreqs.most_common(10)"
   ]
  },
  {
   "cell_type": "code",
   "execution_count": 220,
   "id": "supported-blast",
   "metadata": {},
   "outputs": [
    {
     "data": {
      "text/plain": [
       "<AxesSubplot:title={'center':'\\nTop 10 Most Common Words in clean_review Column\\n'}, ylabel='words'>"
      ]
     },
     "execution_count": 220,
     "metadata": {},
     "output_type": "execute_result"
    },
    {
     "data": {
      "text/plain": [
       "<Figure size 1440x1440 with 0 Axes>"
      ]
     },
     "metadata": {},
     "output_type": "display_data"
    },
    {
     "data": {
      "image/png": "[encoded data removed]",
      "text/plain": [
       "<Figure size 720x576 with 1 Axes>"
      ]
     },
     "metadata": {},
     "output_type": "display_data"
    }
   ],
   "source": [
    "plt.figure(figsize=(20,20))\n",
    "\n",
    "# create a DF for analysis and plotting that includes only the top 10 most common words in the pros and cons columns\n",
    "# most_common_words_cons = pd.DataFrame(consWordFreqs.most_common(10), columns=['words', 'count'])\n",
    "most_common_words = pd.DataFrame(word_freqs.most_common(10), columns=['words', 'count'])\n",
    "\n",
    "# fig, ax = plt.subplots(1, 2, figsize=(20, 8))\n",
    "\n",
    "# Plot horizontal bar graph\n",
    "most_common_words.sort_values(by='count').plot.barh(x='words', y='count', title='\\nTop 10 Most Common Words in clean_review Column\\n', figsize=(10, 8))\n",
    "# most_common_words_cons.sort_values(by='count').plot.barh(x='words', y='count', ax=ax[1], title='\\nTop 10 Most Common Words in Cons Column\\n')\n",
    "\n",
    "# plt.show()"
   ]
  },
  {
   "cell_type": "code",
   "execution_count": 29,
   "id": "filled-blond",
   "metadata": {},
   "outputs": [],
   "source": [
    "cleanPros = list(itertools.chain(*clean_pros_words))\n",
    "# cleanCons = list(itertools.chain(*cons_puncs_removed))\n",
    "\n",
    "# # remove empty strings\n",
    "# def removeEmptyStrings(lst):\n",
    "#     while (\"\" in lst):\n",
    "#         lst.remove(\"\")\n",
    "    \n",
    "#     return lst\n",
    "\n",
    "# removeEmptyStrings(cleanPros)\n",
    "# removeEmptyStrings(cleanCons)\n",
    "\n",
    "newProsWordFreqs = collections.Counter(cleanPros)\n",
    "# newConsWordFreqs = collections.Counter(cleanCons)\n",
    "\n",
    "# create a DF for analysis and plotting that includes only the top 10 most common words\n",
    "finalPros = pd.DataFrame(newProsWordFreqs.most_common(10), columns=['words', 'count'])\n",
    "# finalCons = pd.DataFrame(newConsWordFreqs.most_common(10), columns=['words', 'count'])"
   ]
  },
  {
   "cell_type": "code",
   "execution_count": 31,
   "id": "backed-solution",
   "metadata": {},
   "outputs": [
    {
     "data": {
      "image/png": "[encoded data removed]",
      "text/plain": [
       "<Figure size 1440x576 with 2 Axes>"
      ]
     },
     "metadata": {},
     "output_type": "display_data"
    }
   ],
   "source": [
    "fig, ax = plt.subplots(1, 2, figsize=(20, 8))\n",
    "\n",
    "# Plot horizontal bar graph\n",
    "most_common_words_pros.sort_values(by='count').plot.barh(x='words', y='count', ax=ax[0])\n",
    "finalPros.sort_values(by='count').plot.barh(x='words', y='count', ax=ax[1], color='green')\n",
    "fig.suptitle('\\nTop 10 Most Common Words in clean_review Column\\n', fontsize=20)\n",
    "\n",
    "plt.show()"
   ]
  }
 ],
 "metadata": {
  "kernelspec": {
   "display_name": "Python 3",
   "language": "python",
   "name": "python3"
  },
  "language_info": {
   "codemirror_mode": {
    "name": "ipython",
    "version": 3
   },
   "file_extension": ".py",
   "mimetype": "text/x-python",
   "name": "python",
   "nbconvert_exporter": "python",
   "pygments_lexer": "ipython3",
   "version": "3.7.10"
  }
 },
 "nbformat": 4,
 "nbformat_minor": 5
}
